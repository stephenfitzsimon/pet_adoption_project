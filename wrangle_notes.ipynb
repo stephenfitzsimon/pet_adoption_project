{
 "cells": [
  {
   "cell_type": "markdown",
   "id": "f9a9d760",
   "metadata": {},
   "source": [
    "# Austin Shelter Wrangle Notes\n",
    "\n",
    "This notebook contains notes and code to develop the `final_adoption_report` for the <a href='https://github.com/stephenfitzsimon/pet_adoption_project'>Austin Shelter Pet Outcomes</a> project."
   ]
  },
  {
   "cell_type": "code",
   "execution_count": 1,
   "id": "8f6ac3c2",
   "metadata": {},
   "outputs": [],
   "source": [
    "import pandas as pd"
   ]
  },
  {
   "cell_type": "code",
   "execution_count": 4,
   "id": "6608dd53",
   "metadata": {},
   "outputs": [],
   "source": [
    "def download_data():\n",
    "    df_outcome = pd.read_csv('https://data.austintexas.gov/resource/9t4d-g238.csv')\n",
    "    df_intake = pd.read_csv('https://data.austintexas.gov/resource/wter-evkm.csv')\n",
    "    return df_outcome, df_intake\n",
    "\n",
    "df_o, df_i = download_data()"
   ]
  },
  {
   "cell_type": "code",
   "execution_count": null,
   "id": "4910d6d7",
   "metadata": {},
   "outputs": [],
   "source": []
  },
  {
   "cell_type": "code",
   "execution_count": null,
   "id": "881f0f53",
   "metadata": {},
   "outputs": [],
   "source": []
  }
 ],
 "metadata": {
  "kernelspec": {
   "display_name": "Python 3 (ipykernel)",
   "language": "python",
   "name": "python3"
  },
  "language_info": {
   "codemirror_mode": {
    "name": "ipython",
    "version": 3
   },
   "file_extension": ".py",
   "mimetype": "text/x-python",
   "name": "python",
   "nbconvert_exporter": "python",
   "pygments_lexer": "ipython3",
   "version": "3.9.12"
  }
 },
 "nbformat": 4,
 "nbformat_minor": 5
}

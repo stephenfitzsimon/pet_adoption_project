{
 "cells": [
  {
   "cell_type": "markdown",
   "id": "4c312f2d",
   "metadata": {},
   "source": [
    "# Austin Shelter Pet Outcomes <a name='top'></a>\n",
    "*By Stephen FitzSimon*\n",
    "\n",
    "## Key Takeaways From This Report\n",
    "\n",
    "## Contents <a name='contents'></a>\n",
    "\n",
    "*Note: the following hyperlinks will only work on local copies of this notebook; they will not function on GitHub!*\n",
    "\n",
    "1. <a href='introduction'>Introduction</a>\n",
    "    1. <a href='data_source'>Data Source</a>\n",
    "2. <a href='wrangle'>Wrangle Data</a>\n",
    "\n",
    "## Introduction <a name='introduction'></a>\n",
    "\n",
    "<a href='https://www.austintexas.gov/austin-animal-center'>Austin Animal Center</a> provides animal services for the city of Austin, and unincorporated Travis county.  Since 2010 they have implemented a <a href='https://www.austintexas.gov/page/no-kill-plan'>'no-kill' strategy</a> to increase live outcomes for adoptions; this included community partnerships, community education, increased animal services and better data collection.  The goal of this project is to help understand how the Austin Animal Center can provide better services and outcomes for the animals and owners that they serve.\n",
    "\n",
    "This report is structered around the data science pipeline of 1. wrangle the data, 2. explore the data and 3. model the data.  Each sections includes key takeaways followed by a discussion that provides more in depth analysis; these are designed to provide all the necessary information to understand the project and arguments.  For more technical and analytical information, visualizations, calculations and code follow these two sections along with annotations and discussions.  Hyperlinks are provided throughout to allow the user to navigate to relevant sections.\n",
    "\n",
    "### Data Source <a name='data_source'></a>\n",
    "The City of Austin provides an <a href='https://data.austintexas.gov/'>open data websit</a> where the data for this project can be found.\n",
    "- <a href= 'https://data.austintexas.gov/Health-and-Community-Services/Austin-Animal-Center-Outcomes/9t4d-g238'>Outcome data can be found here</a>\n",
    "- <a href= 'https://data.austintexas.gov/Health-and-Community-Services/Austin-Animal-Center-Intakes/wter-evkm'>Intake data can be found here</a>\n",
    "\n",
    "<a href='contents'>Back to Contents</a>"
   ]
  },
  {
   "cell_type": "code",
   "execution_count": null,
   "id": "f17e84ef",
   "metadata": {},
   "outputs": [],
   "source": [
    "import pandas as pd"
   ]
  },
  {
   "cell_type": "markdown",
   "id": "4f3b90a3",
   "metadata": {},
   "source": [
    "## Wrangle Data <a name='wrangle'></a>\n",
    "\n",
    "### Key Wrangle Takeaways\n",
    "\n",
    "### Discusion"
   ]
  },
  {
   "cell_type": "code",
   "execution_count": 4,
   "id": "ee7ae17f",
   "metadata": {},
   "outputs": [],
   "source": [
    "df_outcome = pd.read_csv('Austin_Animal_Center_Outcomes.csv')\n",
    "df_intake = pd.read_csv('Austin_Animal_Center_Intakes.csv')"
   ]
  },
  {
   "cell_type": "code",
   "execution_count": 5,
   "id": "dc1d3f0b",
   "metadata": {},
   "outputs": [
    {
     "name": "stdout",
     "output_type": "stream",
     "text": [
      "<class 'pandas.core.frame.DataFrame'>\n",
      "RangeIndex: 141129 entries, 0 to 141128\n",
      "Data columns (total 12 columns):\n",
      " #   Column            Non-Null Count   Dtype \n",
      "---  ------            --------------   ----- \n",
      " 0   Animal ID         141129 non-null  object\n",
      " 1   Name              99501 non-null   object\n",
      " 2   DateTime          141129 non-null  object\n",
      " 3   MonthYear         141129 non-null  object\n",
      " 4   Date of Birth     141129 non-null  object\n",
      " 5   Outcome Type      141106 non-null  object\n",
      " 6   Outcome Subtype   64753 non-null   object\n",
      " 7   Animal Type       141129 non-null  object\n",
      " 8   Sex upon Outcome  141128 non-null  object\n",
      " 9   Age upon Outcome  141105 non-null  object\n",
      " 10  Breed             141129 non-null  object\n",
      " 11  Color             141129 non-null  object\n",
      "dtypes: object(12)\n",
      "memory usage: 12.9+ MB\n"
     ]
    }
   ],
   "source": [
    "df_outcome.info()"
   ]
  },
  {
   "cell_type": "code",
   "execution_count": 13,
   "id": "59441cc9",
   "metadata": {},
   "outputs": [
    {
     "name": "stdout",
     "output_type": "stream",
     "text": [
      "<class 'pandas.core.frame.DataFrame'>\n",
      "RangeIndex: 141255 entries, 0 to 141254\n",
      "Data columns (total 12 columns):\n",
      " #   Column            Non-Null Count   Dtype \n",
      "---  ------            --------------   ----- \n",
      " 0   Animal ID         141255 non-null  object\n",
      " 1   Name              99581 non-null   object\n",
      " 2   DateTime          141255 non-null  object\n",
      " 3   MonthYear         141255 non-null  object\n",
      " 4   Found Location    141255 non-null  object\n",
      " 5   Intake Type       141255 non-null  object\n",
      " 6   Intake Condition  141255 non-null  object\n",
      " 7   Animal Type       141255 non-null  object\n",
      " 8   Sex upon Intake   141254 non-null  object\n",
      " 9   Age upon Intake   141255 non-null  object\n",
      " 10  Breed             141255 non-null  object\n",
      " 11  Color             141255 non-null  object\n",
      "dtypes: object(12)\n",
      "memory usage: 12.9+ MB\n"
     ]
    }
   ],
   "source": [
    "df_intake.info()"
   ]
  },
  {
   "cell_type": "code",
   "execution_count": 15,
   "id": "77b0c8eb",
   "metadata": {},
   "outputs": [
    {
     "data": {
      "text/plain": [
       "Intact Male      46670\n",
       "Intact Female    44389\n",
       "Neutered Male    21056\n",
       "Spayed Female    17917\n",
       "Unknown          11222\n",
       "Name: Sex upon Intake, dtype: int64"
      ]
     },
     "execution_count": 15,
     "metadata": {},
     "output_type": "execute_result"
    }
   ],
   "source": [
    "df_intake['Sex upon Intake'].value_counts()"
   ]
  },
  {
   "cell_type": "code",
   "execution_count": 16,
   "id": "d1185de4",
   "metadata": {},
   "outputs": [
    {
     "data": {
      "text/plain": [
       "Neutered Male    49587\n",
       "Spayed Female    44747\n",
       "Intact Male      18034\n",
       "Intact Female    17564\n",
       "Unknown          11196\n",
       "Name: Sex upon Outcome, dtype: int64"
      ]
     },
     "execution_count": 16,
     "metadata": {},
     "output_type": "execute_result"
    }
   ],
   "source": [
    "df_outcome['Sex upon Outcome'].value_counts()"
   ]
  },
  {
   "cell_type": "code",
   "execution_count": null,
   "id": "e549bdd2",
   "metadata": {},
   "outputs": [],
   "source": []
  }
 ],
 "metadata": {
  "kernelspec": {
   "display_name": "Python 3 (ipykernel)",
   "language": "python",
   "name": "python3"
  },
  "language_info": {
   "codemirror_mode": {
    "name": "ipython",
    "version": 3
   },
   "file_extension": ".py",
   "mimetype": "text/x-python",
   "name": "python",
   "nbconvert_exporter": "python",
   "pygments_lexer": "ipython3",
   "version": "3.9.12"
  }
 },
 "nbformat": 4,
 "nbformat_minor": 5
}

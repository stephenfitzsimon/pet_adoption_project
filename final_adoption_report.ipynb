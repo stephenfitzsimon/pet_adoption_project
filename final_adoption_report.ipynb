{
 "cells": [
  {
   "cell_type": "markdown",
   "id": "05920185",
   "metadata": {},
   "source": [
    "# Austin Shelter Pet Outcomes <a name='top'></a>\n",
    "*By Stephen FitzSimon*\n",
    "\n",
    "## Key Takeaways From This Report\n",
    "\n",
    "## Contents <a name='contents'></a>\n",
    "\n",
    "*Note: the following hyperlinks will only work on local copies of this notebook; they will not function on GitHub!*\n",
    "\n",
    "1. <a href='#introduction'>Introduction</a>\n",
    "    1. <a href='#data_source'>Data Source</a>\n",
    "2. <a href='#wrangle'>Wrangle The Data</a>\n",
    "3. <a href='#exploring'>Exploring The Data\n",
    "    1. <a href='#prop_adopted'>What proportion of animals are getting adopted? </a>\n",
    "    1. <a href='#animal_type_adopt'>What type of animal is most likely to get adopted? </a>\n",
    "    \n",
    "## Introduction <a name='introduction'></a>\n",
    "\n",
    "<a href='https://www.austintexas.gov/austin-animal-center'>Austin Animal Center</a> provides animal services for the city of Austin, and unincorporated Travis county.  Since 2010 they have implemented a <a href='https://www.austintexas.gov/page/no-kill-plan'>'no-kill' strategy</a> to increase live outcomes for adoptions; this included community partnerships, community education, increased animal services and better data collection.  The goal of this project is to help understand how the Austin Animal Center can provide better services and outcomes for the animals and owners that they serve.  \n",
    "\n",
    "This report is structered around the data science pipeline of 1. wrangle the data, 2. explore the data and 3. model the data.  Each sections includes key takeaways followed by a discussion that provides more in depth analysis; these are designed to provide all the necessary information to understand the project and arguments.  For more technical and analytical information, visualizations, calculations and code follow these two sections along with annotations and discussions.  If more detail is needed, reference the series of other notebooks as mentioned in the <a href='https://github.com/stephenfitzsimon/pet_adoption_project/blob/main/README.md'>readme file</a>. Hyperlinks are provided throughout to allow the user to navigate to relevant sections.\n",
    "\n",
    "### Data Source <a name='data_source'></a>\n",
    "The City of Austin provides an <a href='https://data.austintexas.gov/'>open data website</a> where the data for this project can be found.\n",
    "- <a href= 'https://data.austintexas.gov/Health-and-Community-Services/Austin-Animal-Center-Outcomes/9t4d-g238'>Outcome data can be found here</a>\n",
    "- <a href= 'https://data.austintexas.gov/Health-and-Community-Services/Austin-Animal-Center-Intakes/wter-evkm'>Intake data can be found here</a>\n",
    "    \n",
    "### Intro to the Target Variable\n",
    "    \n",
    "The model attempts to predict the outcomes for animals the first time they arrive at the shelter.  In the interest of simplicity, the various categories in the `outcome_type` column are aggregated into four categories. The model attempts to predict one of for outcomes as aggregated from the `outcome_type` column of the data:\n",
    "1. Adoption\n",
    "2. Transfer\n",
    "3. Return to Owner (include Rto-Adopt category)\n",
    "4. Other (includes the following: euthanised, died, disposal, missing, relocate, lost)\n",
    "\n",
    "Many of the outcomes in the Other category were due to non-pet status (for example `A860153` is a bat and `A860288` is a grackle, both of which at intake were injured).  Of the euthanised/died animals, most were considered suffering/sick/injured.\n",
    "\n",
    "<a href='#contents'>Back to Contents</a>"
   ]
  },
  {
   "cell_type": "code",
   "execution_count": 84,
   "id": "0d2b5894",
   "metadata": {},
   "outputs": [],
   "source": [
    "#data science modules used\n",
    "import pandas as pd\n",
    "import seaborn as sns\n",
    "import matplotlib.pyplot as plt\n",
    "\n",
    "#custom modules used\n",
    "import wrangle\n",
    "import explore\n",
    "\n",
    "#global constants\n",
    "PLT_SIZE = (15,6) #to format the visualizations"
   ]
  },
  {
   "cell_type": "markdown",
   "id": "414b69d5",
   "metadata": {},
   "source": [
    "## Wrangle The Data <a name='wrangle'></a>\n",
    "\n",
    "### Key Wrangle Takeaways\n",
    "- Two tables of data are retrieved from the Austin <a href='https://data.austintexas.gov/'>open data website</a>\n",
    "- The `Outcome` table contained 141170 records and 12 columns; the `Intake` table contained 141303 records and 12 columns\n",
    "- Both tables were merged on the key `animal_id`\n",
    "    - Duplicate records were dropped.  Many of the duplicate records were the same animal.\n",
    "- Date columns were aggregated into `intake_date` and `outcome_date` and scaled to days\n",
    "- Repeated columns were removed (example: `color` and `breed` were the same for both intake and outcome tables)\n",
    "- `name` and `outcome_subtype` had null values inferred\n",
    "- Remaining nulls were dropped\n",
    "- Final table is 113944 rows and 17 columns\n",
    "\n",
    "### Discusion\n",
    "\n",
    "Data was retrieved from the Austin <a href='https://data.austintexas.gov/'>open data website</a> via the Socrata Open Data API (SODA) and the `sodapy` python module.  The <a href= 'https://data.austintexas.gov/Health-and-Community-Services/Austin-Animal-Center-Outcomes/9t4d-g238'>outcome data</a> contained 141170 records with 12 columns and the <a href= 'https://data.austintexas.gov/Health-and-Community-Services/Austin-Animal-Center-Intakes/wter-evkm'>intake data</a> contained 141303 records across 12 rows.  \n",
    "\n",
    "Each row represents a single animal intake or outcome (a data dictionary can be found <a href='#appedix'>here</a>). The tables were merged on the `animal_id` column; however, duplicates were dropped for this project.  Many of the duplicate rows represented a single animal that had been returned to the shelter after a series of different outcomes--for example, record `A700407` indicates that the animal most likely escaped from the owner and was then returned to the owner multiple times over a period of 6 years (the animal is listed as `Stray` on the `Intake` table, and the the outcome is listed as `Returned to owner` / `Adoption` on the `Outcome` table).  While these records would be ideal to concatenate in a larger project, this project focuses on the adoptability of animals first entering the shelter.  It is most likely the case that the reduplicated records represent an animal that is difficult to adopt.\n",
    "\n",
    "The date columns did not differ intra-table, and so were aggregated into `intake_date` and `outcome_date` and truncated to year-month-date form.  In addition, columns repeated on both tables were found to contain the same information, and these replicated columns were dropped.  The `outcome_subtype` and `name` columns had a significant number of null values; these were inferred to be `no name` and `no subtype`.  Several columns--`outcome_type`, `sex_at_outcome`, `age_at_outcome` and `sex_at_intake`--had null value; at most these represented 15 rows, and consequently were dropped. The `age_upon_intake` and `age_upon_outcome` both contained ages that were `String` data types of the forms `\"x years\"`, `\"x months\"` or `\"x days\"`. These were converted to a number of days; months were assumed to have $30.5$ days, and years were assumed to have $365.25$ days.  The final calculation was then rounded to `int` datatype.  As these ages are most likely estimation on the part of shelter staff, this is most likely enough accuracy.  Finally, as `date_of_birth` most likely was also an estimation, the column was dropped.\n",
    "\n",
    "### Code\n",
    "\n",
    "Code used in this section is contained in `wrangle.py` which programmatically retrieves and prepares the data.  It contains the following functions:\n",
    "- `get_pet_data` : Checks if a csv file is present, and retrieves data from csv or url. A url query can be forced via `query_url=True`\n",
    "- `download_data` : Returns the pet outcome and pet intake dataframes from the SODA API\n",
    "- `make_date_columns` : Aggregates datetime columns into outcome and intake dates\n",
    "- `null_fill_and_drop` : Fills nulls and drops null values. `name` columns nulls are inferred as no name and `outcome_subtype` is inferred as no subtype.  Remaining nulls are dropped\n",
    "- `convert_age_column` : Converts age columns to days\n",
    "- `rename_intake_cols` : Renames the columns from the intake table to make calling them easier\n",
    "- `rename_intake` : Suffixes the column names of the intake table to distinguish from outcome columns after merge\n",
    "- `join_tables` : Joins the intake and outake tables on the animal_id column\n",
    "- `make_target_column` : Maps the various `outcome_types` to the target outcomes\n",
    "- Flow control functions:\n",
    "    - `make_pet_dataframe` : Flow control function to retrieve data and prepare it for exploration\n",
    "    - `get_pet_dataframe` : Flow control function to get dataframe from url or .csv file and join both tables\n",
    "    - `prepare_pet_dataframe` : Flow control function to prepare data"
   ]
  },
  {
   "cell_type": "code",
   "execution_count": 2,
   "id": "9dee8361",
   "metadata": {},
   "outputs": [
    {
     "name": "stdout",
     "output_type": "stream",
     "text": [
      "Returning saved csv files.\n"
     ]
    },
    {
     "data": {
      "text/html": [
       "<div>\n",
       "<style scoped>\n",
       "    .dataframe tbody tr th:only-of-type {\n",
       "        vertical-align: middle;\n",
       "    }\n",
       "\n",
       "    .dataframe tbody tr th {\n",
       "        vertical-align: top;\n",
       "    }\n",
       "\n",
       "    .dataframe thead th {\n",
       "        text-align: right;\n",
       "    }\n",
       "</style>\n",
       "<table border=\"1\" class=\"dataframe\">\n",
       "  <thead>\n",
       "    <tr style=\"text-align: right;\">\n",
       "      <th></th>\n",
       "      <th>animal_id</th>\n",
       "      <th>name</th>\n",
       "      <th>outcome_type</th>\n",
       "      <th>animal_type</th>\n",
       "      <th>sex_upon_outcome</th>\n",
       "      <th>breed</th>\n",
       "      <th>color</th>\n",
       "      <th>outcome_subtype</th>\n",
       "      <th>found_location</th>\n",
       "      <th>intake_type</th>\n",
       "      <th>intake_condition</th>\n",
       "      <th>sex_upon_intake</th>\n",
       "      <th>outcome_date</th>\n",
       "      <th>intake_date</th>\n",
       "      <th>target_outcome</th>\n",
       "      <th>age_at_outcome</th>\n",
       "      <th>age_at_intake</th>\n",
       "    </tr>\n",
       "  </thead>\n",
       "  <tbody>\n",
       "    <tr>\n",
       "      <th>82605</th>\n",
       "      <td>A711580</td>\n",
       "      <td>Tom</td>\n",
       "      <td>Adoption</td>\n",
       "      <td>Cat</td>\n",
       "      <td>Neutered Male</td>\n",
       "      <td>Domestic Shorthair Mix</td>\n",
       "      <td>Brown Tabby</td>\n",
       "      <td>no subtype</td>\n",
       "      <td>14811 Bescott Dr in Austin (TX)</td>\n",
       "      <td>Stray</td>\n",
       "      <td>Normal</td>\n",
       "      <td>Intact Male</td>\n",
       "      <td>2015-10-24</td>\n",
       "      <td>2015-09-09</td>\n",
       "      <td>Adoption</td>\n",
       "      <td>61</td>\n",
       "      <td>30</td>\n",
       "    </tr>\n",
       "    <tr>\n",
       "      <th>61781</th>\n",
       "      <td>A748107</td>\n",
       "      <td>Diane</td>\n",
       "      <td>Adoption</td>\n",
       "      <td>Dog</td>\n",
       "      <td>Spayed Female</td>\n",
       "      <td>Chihuahua Shorthair Mix</td>\n",
       "      <td>White/Black</td>\n",
       "      <td>Offsite</td>\n",
       "      <td>602 Live Oak Drive in Cedar Park (TX)</td>\n",
       "      <td>Stray</td>\n",
       "      <td>Normal</td>\n",
       "      <td>Spayed Female</td>\n",
       "      <td>2017-05-07</td>\n",
       "      <td>2017-04-29</td>\n",
       "      <td>Adoption</td>\n",
       "      <td>3652</td>\n",
       "      <td>3652</td>\n",
       "    </tr>\n",
       "    <tr>\n",
       "      <th>19595</th>\n",
       "      <td>A818165</td>\n",
       "      <td>*Moonshine</td>\n",
       "      <td>Transfer</td>\n",
       "      <td>Dog</td>\n",
       "      <td>Intact Male</td>\n",
       "      <td>Pit Bull Mix</td>\n",
       "      <td>Brown Brindle/White</td>\n",
       "      <td>Partner</td>\n",
       "      <td>Austin (TX)</td>\n",
       "      <td>Owner Surrender</td>\n",
       "      <td>Sick</td>\n",
       "      <td>Intact Male</td>\n",
       "      <td>2020-06-03</td>\n",
       "      <td>2020-06-03</td>\n",
       "      <td>Transfer</td>\n",
       "      <td>30</td>\n",
       "      <td>30</td>\n",
       "    </tr>\n",
       "    <tr>\n",
       "      <th>11423</th>\n",
       "      <td>A834491</td>\n",
       "      <td>*Seymour Skinner</td>\n",
       "      <td>Adoption</td>\n",
       "      <td>Cat</td>\n",
       "      <td>Neutered Male</td>\n",
       "      <td>Domestic Shorthair</td>\n",
       "      <td>Black</td>\n",
       "      <td>no subtype</td>\n",
       "      <td>290 And 973 in Austin (TX)</td>\n",
       "      <td>Stray</td>\n",
       "      <td>Normal</td>\n",
       "      <td>Intact Male</td>\n",
       "      <td>2021-06-24</td>\n",
       "      <td>2021-05-14</td>\n",
       "      <td>Adoption</td>\n",
       "      <td>365</td>\n",
       "      <td>365</td>\n",
       "    </tr>\n",
       "    <tr>\n",
       "      <th>74709</th>\n",
       "      <td>A727541</td>\n",
       "      <td>*Laramie</td>\n",
       "      <td>Adoption</td>\n",
       "      <td>Dog</td>\n",
       "      <td>Neutered Male</td>\n",
       "      <td>Labrador Retriever</td>\n",
       "      <td>Black/White</td>\n",
       "      <td>no subtype</td>\n",
       "      <td>3636 Rr 620 N in Austin (TX)</td>\n",
       "      <td>Stray</td>\n",
       "      <td>Normal</td>\n",
       "      <td>Intact Male</td>\n",
       "      <td>2016-05-28</td>\n",
       "      <td>2016-05-23</td>\n",
       "      <td>Adoption</td>\n",
       "      <td>61</td>\n",
       "      <td>61</td>\n",
       "    </tr>\n",
       "  </tbody>\n",
       "</table>\n",
       "</div>"
      ],
      "text/plain": [
       "      animal_id              name outcome_type animal_type sex_upon_outcome  \\\n",
       "82605   A711580               Tom     Adoption         Cat    Neutered Male   \n",
       "61781   A748107             Diane     Adoption         Dog    Spayed Female   \n",
       "19595   A818165        *Moonshine     Transfer         Dog      Intact Male   \n",
       "11423   A834491  *Seymour Skinner     Adoption         Cat    Neutered Male   \n",
       "74709   A727541          *Laramie     Adoption         Dog    Neutered Male   \n",
       "\n",
       "                         breed                color outcome_subtype  \\\n",
       "82605   Domestic Shorthair Mix          Brown Tabby      no subtype   \n",
       "61781  Chihuahua Shorthair Mix          White/Black         Offsite   \n",
       "19595             Pit Bull Mix  Brown Brindle/White         Partner   \n",
       "11423       Domestic Shorthair                Black      no subtype   \n",
       "74709       Labrador Retriever          Black/White      no subtype   \n",
       "\n",
       "                              found_location      intake_type  \\\n",
       "82605        14811 Bescott Dr in Austin (TX)            Stray   \n",
       "61781  602 Live Oak Drive in Cedar Park (TX)            Stray   \n",
       "19595                            Austin (TX)  Owner Surrender   \n",
       "11423             290 And 973 in Austin (TX)            Stray   \n",
       "74709           3636 Rr 620 N in Austin (TX)            Stray   \n",
       "\n",
       "      intake_condition sex_upon_intake outcome_date intake_date  \\\n",
       "82605           Normal     Intact Male   2015-10-24  2015-09-09   \n",
       "61781           Normal   Spayed Female   2017-05-07  2017-04-29   \n",
       "19595             Sick     Intact Male   2020-06-03  2020-06-03   \n",
       "11423           Normal     Intact Male   2021-06-24  2021-05-14   \n",
       "74709           Normal     Intact Male   2016-05-28  2016-05-23   \n",
       "\n",
       "      target_outcome  age_at_outcome  age_at_intake  \n",
       "82605       Adoption              61             30  \n",
       "61781       Adoption            3652           3652  \n",
       "19595       Transfer              30             30  \n",
       "11423       Adoption             365            365  \n",
       "74709       Adoption              61             61  "
      ]
     },
     "execution_count": 2,
     "metadata": {},
     "output_type": "execute_result"
    }
   ],
   "source": [
    "df = wrangle.make_pet_dataframe()\n",
    "df.sample(5)"
   ]
  },
  {
   "cell_type": "markdown",
   "id": "b4ab1876",
   "metadata": {},
   "source": [
    "<a href='#contents'>Backt to Contents</a>\n",
    "\n",
    "## Exploring The Data <a name='exploring'></a>\n",
    "\n",
    "### Key Explore Takeaways\n",
    "- Overall adoption rate is $0.43$; adoption and transfer represent the majority of outcomes ($0.76$ of all outcomes)\n",
    "- As the majority of animals in the data are cats or dogs ($0.92$ of the data), the majority of the exploration focuses on these two animal types\n",
    "    - The adoption rate among cats and dogs is $0.45$\n",
    "- Most animals are brought in as strays ($0.72$) and are in normal condition ($0.84$)\n",
    "\n",
    "\n",
    "### Section Contents\n",
    "\n",
    "1. <a href='#split'>Splitting data into Train, Validate and Test </a>\n",
    "1. <a href='#prop_outcome'>What are typical animal outcomes?</a>\n",
    "2. <a href='#intake_condition'>What is the intake condition of adopted animals?</a>\n",
    "\n",
    "#### How subsections are structured\n",
    "\n",
    "The following subsections are titled by a question, which is followed by a discussion.  Following, visualization and numeric data are presented; in addition, hypothesis tests are presented if applicable.\n",
    "\n",
    "### Discussion\n",
    "\n",
    "The overall adoption rate in the data is $0.43$.  However, the majority of the data ($0.92$) represents cats and dogs which have a higher adoption rate of $0.45$.  This would be expected as, based off of experience, the majority of people who visit a shelter are looking to adopt a cat or a dog.  In addition, $0.67$ of the non cat or dog animals were categorized as wildlife (the majority of which were bats), and are not adoptable.\n",
    "\n",
    "### Code\n",
    "\n",
    "The following code is used in this section:\n",
    "- From the `wrangle.py` module\n",
    "    - `split_data(df, target_col, cat_cols)` : Gets the proportion of each value in `target_col` for `cat_cols` passed and each subcategory in the cat_cols column.  Essentially performs a `value_counts(normalize=True)` on each category for the `target_col` values"
   ]
  },
  {
   "cell_type": "markdown",
   "id": "13b6de27",
   "metadata": {},
   "source": [
    "### Splitting data into Train, Validate and Test <a name='split'></a>\n",
    "\n",
    "Data is split into train, validate and test subsets.  All exploration is done on the train set; validate and test sets are reserved to evaluate machine learning models."
   ]
  },
  {
   "cell_type": "code",
   "execution_count": 3,
   "id": "484eabcd",
   "metadata": {},
   "outputs": [],
   "source": [
    "train, validate, test = wrangle.split_data(df) #split the data"
   ]
  },
  {
   "cell_type": "code",
   "execution_count": 4,
   "id": "b44aaf13",
   "metadata": {},
   "outputs": [
    {
     "data": {
      "text/plain": [
       "((63808, 17), (27347, 17), (22789, 17))"
      ]
     },
     "execution_count": 4,
     "metadata": {},
     "output_type": "execute_result"
    }
   ],
   "source": [
    "train.shape, validate.shape, test.shape #show the size of the subsets"
   ]
  },
  {
   "cell_type": "markdown",
   "id": "059f2d75",
   "metadata": {},
   "source": [
    "Take a look at a sample of the train data:"
   ]
  },
  {
   "cell_type": "code",
   "execution_count": 5,
   "id": "c83ad695",
   "metadata": {
    "scrolled": true
   },
   "outputs": [
    {
     "data": {
      "text/html": [
       "<div>\n",
       "<style scoped>\n",
       "    .dataframe tbody tr th:only-of-type {\n",
       "        vertical-align: middle;\n",
       "    }\n",
       "\n",
       "    .dataframe tbody tr th {\n",
       "        vertical-align: top;\n",
       "    }\n",
       "\n",
       "    .dataframe thead th {\n",
       "        text-align: right;\n",
       "    }\n",
       "</style>\n",
       "<table border=\"1\" class=\"dataframe\">\n",
       "  <thead>\n",
       "    <tr style=\"text-align: right;\">\n",
       "      <th></th>\n",
       "      <th>animal_id</th>\n",
       "      <th>name</th>\n",
       "      <th>outcome_type</th>\n",
       "      <th>animal_type</th>\n",
       "      <th>sex_upon_outcome</th>\n",
       "      <th>breed</th>\n",
       "      <th>color</th>\n",
       "      <th>outcome_subtype</th>\n",
       "      <th>found_location</th>\n",
       "      <th>intake_type</th>\n",
       "      <th>intake_condition</th>\n",
       "      <th>sex_upon_intake</th>\n",
       "      <th>outcome_date</th>\n",
       "      <th>intake_date</th>\n",
       "      <th>target_outcome</th>\n",
       "      <th>age_at_outcome</th>\n",
       "      <th>age_at_intake</th>\n",
       "    </tr>\n",
       "  </thead>\n",
       "  <tbody>\n",
       "    <tr>\n",
       "      <th>26634</th>\n",
       "      <td>A806267</td>\n",
       "      <td>no name</td>\n",
       "      <td>Transfer</td>\n",
       "      <td>Cat</td>\n",
       "      <td>Neutered Male</td>\n",
       "      <td>Domestic Shorthair</td>\n",
       "      <td>Orange/White</td>\n",
       "      <td>Partner</td>\n",
       "      <td>4434 Frontier Trl in Austin (TX)</td>\n",
       "      <td>Stray</td>\n",
       "      <td>Sick</td>\n",
       "      <td>Neutered Male</td>\n",
       "      <td>2019-10-08</td>\n",
       "      <td>2019-10-08</td>\n",
       "      <td>Transfer</td>\n",
       "      <td>3652</td>\n",
       "      <td>3652</td>\n",
       "    </tr>\n",
       "    <tr>\n",
       "      <th>50052</th>\n",
       "      <td>A768233</td>\n",
       "      <td>no name</td>\n",
       "      <td>Euthanasia</td>\n",
       "      <td>Other</td>\n",
       "      <td>Unknown</td>\n",
       "      <td>Bat Mix</td>\n",
       "      <td>Brown</td>\n",
       "      <td>Rabies Risk</td>\n",
       "      <td>1717 W 6Th St in Austin (TX)</td>\n",
       "      <td>Wildlife</td>\n",
       "      <td>Normal</td>\n",
       "      <td>Unknown</td>\n",
       "      <td>2018-03-16</td>\n",
       "      <td>2018-03-15</td>\n",
       "      <td>Other</td>\n",
       "      <td>365</td>\n",
       "      <td>365</td>\n",
       "    </tr>\n",
       "    <tr>\n",
       "      <th>93465</th>\n",
       "      <td>A696276</td>\n",
       "      <td>*Rubix</td>\n",
       "      <td>Euthanasia</td>\n",
       "      <td>Dog</td>\n",
       "      <td>Intact Male</td>\n",
       "      <td>Pit Bull Mix</td>\n",
       "      <td>Chocolate/White</td>\n",
       "      <td>Aggressive</td>\n",
       "      <td>6513 Hergotz in Austin (TX)</td>\n",
       "      <td>Stray</td>\n",
       "      <td>Normal</td>\n",
       "      <td>Intact Male</td>\n",
       "      <td>2015-02-23</td>\n",
       "      <td>2015-02-01</td>\n",
       "      <td>Other</td>\n",
       "      <td>730</td>\n",
       "      <td>730</td>\n",
       "    </tr>\n",
       "    <tr>\n",
       "      <th>44384</th>\n",
       "      <td>A777838</td>\n",
       "      <td>no name</td>\n",
       "      <td>Adoption</td>\n",
       "      <td>Cat</td>\n",
       "      <td>Spayed Female</td>\n",
       "      <td>Domestic Shorthair Mix</td>\n",
       "      <td>White/Blue</td>\n",
       "      <td>no subtype</td>\n",
       "      <td>8Th Street And Congress Avenue in Austin (TX)</td>\n",
       "      <td>Stray</td>\n",
       "      <td>Normal</td>\n",
       "      <td>Intact Female</td>\n",
       "      <td>2018-08-08</td>\n",
       "      <td>2018-08-04</td>\n",
       "      <td>Adoption</td>\n",
       "      <td>61</td>\n",
       "      <td>30</td>\n",
       "    </tr>\n",
       "    <tr>\n",
       "      <th>86459</th>\n",
       "      <td>A708604</td>\n",
       "      <td>Bella</td>\n",
       "      <td>Transfer</td>\n",
       "      <td>Cat</td>\n",
       "      <td>Intact Female</td>\n",
       "      <td>Domestic Shorthair Mix</td>\n",
       "      <td>Black</td>\n",
       "      <td>Partner</td>\n",
       "      <td>9106 N Ih35 in Austin (TX)</td>\n",
       "      <td>Public Assist</td>\n",
       "      <td>Normal</td>\n",
       "      <td>Intact Female</td>\n",
       "      <td>2015-07-30</td>\n",
       "      <td>2015-07-29</td>\n",
       "      <td>Transfer</td>\n",
       "      <td>28</td>\n",
       "      <td>28</td>\n",
       "    </tr>\n",
       "  </tbody>\n",
       "</table>\n",
       "</div>"
      ],
      "text/plain": [
       "      animal_id     name outcome_type animal_type sex_upon_outcome  \\\n",
       "26634   A806267  no name     Transfer         Cat    Neutered Male   \n",
       "50052   A768233  no name   Euthanasia       Other          Unknown   \n",
       "93465   A696276   *Rubix   Euthanasia         Dog      Intact Male   \n",
       "44384   A777838  no name     Adoption         Cat    Spayed Female   \n",
       "86459   A708604    Bella     Transfer         Cat    Intact Female   \n",
       "\n",
       "                        breed            color outcome_subtype  \\\n",
       "26634      Domestic Shorthair     Orange/White         Partner   \n",
       "50052                 Bat Mix            Brown     Rabies Risk   \n",
       "93465            Pit Bull Mix  Chocolate/White      Aggressive   \n",
       "44384  Domestic Shorthair Mix       White/Blue      no subtype   \n",
       "86459  Domestic Shorthair Mix            Black         Partner   \n",
       "\n",
       "                                      found_location    intake_type  \\\n",
       "26634               4434 Frontier Trl in Austin (TX)          Stray   \n",
       "50052                   1717 W 6Th St in Austin (TX)       Wildlife   \n",
       "93465                    6513 Hergotz in Austin (TX)          Stray   \n",
       "44384  8Th Street And Congress Avenue in Austin (TX)          Stray   \n",
       "86459                     9106 N Ih35 in Austin (TX)  Public Assist   \n",
       "\n",
       "      intake_condition sex_upon_intake outcome_date intake_date  \\\n",
       "26634             Sick   Neutered Male   2019-10-08  2019-10-08   \n",
       "50052           Normal         Unknown   2018-03-16  2018-03-15   \n",
       "93465           Normal     Intact Male   2015-02-23  2015-02-01   \n",
       "44384           Normal   Intact Female   2018-08-08  2018-08-04   \n",
       "86459           Normal   Intact Female   2015-07-30  2015-07-29   \n",
       "\n",
       "      target_outcome  age_at_outcome  age_at_intake  \n",
       "26634       Transfer            3652           3652  \n",
       "50052          Other             365            365  \n",
       "93465          Other             730            730  \n",
       "44384       Adoption              61             30  \n",
       "86459       Transfer              28             28  "
      ]
     },
     "execution_count": 5,
     "metadata": {},
     "output_type": "execute_result"
    }
   ],
   "source": [
    "train.sample(5)"
   ]
  },
  {
   "cell_type": "markdown",
   "id": "f635f515",
   "metadata": {},
   "source": [
    "<a href='#contents'>Back to Contents</a>\n",
    "\n",
    "### What are typical animal outcomes? <a name='prop_outcome'></a>\n",
    "\n",
    "#### Key Takeaways\n",
    "- Adoption ($0.43$) and transfer ($0.33$) are the most common outcomes for all animals\n",
    "- Cat and dogs are most likely to be adopted or transferred\n",
    "- Cats and dogs represent $0.98$ of adoptions and $0.96$ of transfers.\n",
    "- The adoption rate among cats and dogs ($0.45$) is higher than the general adoption rate.\n",
    "\n",
    "#### What are the most common outcomes overall?\n",
    "\n",
    "The most common overall outcome for all animals is adoption, followed by transer.  These represent $0.76$ of all outcomes."
   ]
  },
  {
   "cell_type": "code",
   "execution_count": 26,
   "id": "4caad2d8",
   "metadata": {},
   "outputs": [
    {
     "data": {
      "text/plain": [
       "Text(0.5, 0, 'Animal Outcome')"
      ]
     },
     "execution_count": 26,
     "metadata": {},
     "output_type": "execute_result"
    },
    {
     "data": {
      "image/png": "[encoded data removed]",
      "text/plain": [
       "<Figure size 1080x432 with 1 Axes>"
      ]
     },
     "metadata": {
      "needs_background": "light"
     },
     "output_type": "display_data"
    }
   ],
   "source": [
    "#plot the count of the target outcomes\n",
    "plt.figure(figsize=PLT_SIZE)\n",
    "sns.histplot(data=train, x='target_outcome')\n",
    "#set strings\n",
    "plt.title('Histogram of Animal Outcomes')\n",
    "plt.xlabel('Animal Outcome')"
   ]
  },
  {
   "cell_type": "code",
   "execution_count": 35,
   "id": "7cf1d0ba",
   "metadata": {},
   "outputs": [
    {
     "data": {
      "text/plain": [
       "Adoption           0.434710\n",
       "Transfer           0.331322\n",
       "Other              0.229297\n",
       "Return to Owner    0.004670\n",
       "Name: target_outcome, dtype: float64"
      ]
     },
     "execution_count": 35,
     "metadata": {},
     "output_type": "execute_result"
    }
   ],
   "source": [
    "# same data but proportional\n",
    "train.target_outcome.value_counts(normalize=True)"
   ]
  },
  {
   "cell_type": "markdown",
   "id": "449a581b",
   "metadata": {},
   "source": [
    "#### Are some outcomes determined by animal type?\n",
    "\n",
    "Cats and dogs represent a large proportion of adopted and transfered animals.  Cats appear more likely to be transfered- I suspect that this is because cat's are likely to be part of the SCRP (Stray Cat Return Program) and the SNR (Spay Neuter Release) program."
   ]
  },
  {
   "cell_type": "code",
   "execution_count": 33,
   "id": "bd7366c9",
   "metadata": {},
   "outputs": [
    {
     "data": {
      "text/plain": [
       "Text(0.5, 0, 'Animal Outcome')"
      ]
     },
     "execution_count": 33,
     "metadata": {},
     "output_type": "execute_result"
    },
    {
     "data": {
      "image/png": "[encoded data removed]",
      "text/plain": [
       "<Figure size 1080x432 with 1 Axes>"
      ]
     },
     "metadata": {
      "needs_background": "light"
     },
     "output_type": "display_data"
    }
   ],
   "source": [
    "#plot the target outcome hued by animal type\n",
    "plt.figure(figsize=PLT_SIZE)\n",
    "sns.countplot(data=train, x='target_outcome', hue='animal_type')\n",
    "#set strings\n",
    "plt.title('Outcome by Animal Type')\n",
    "plt.xlabel('Animal Outcome')"
   ]
  },
  {
   "cell_type": "code",
   "execution_count": 34,
   "id": "a3f30225",
   "metadata": {},
   "outputs": [
    {
     "data": {
      "text/plain": [
       "animal_type  target_outcome \n",
       "Bird         Other              0.352632\n",
       "             Adoption           0.342105\n",
       "             Transfer           0.305263\n",
       "Cat          Adoption           0.453473\n",
       "             Transfer           0.440643\n",
       "             Other              0.102824\n",
       "             Return to Owner    0.003060\n",
       "Dog          Adoption           0.464567\n",
       "             Transfer           0.265182\n",
       "             Other              0.263628\n",
       "             Return to Owner    0.006623\n",
       "Livestock    Adoption           0.444444\n",
       "             Transfer           0.333333\n",
       "             Other              0.222222\n",
       "Other        Other              0.780464\n",
       "             Transfer           0.131044\n",
       "             Adoption           0.088008\n",
       "             Return to Owner    0.000484\n",
       "Name: target_outcome, dtype: float64"
      ]
     },
     "execution_count": 34,
     "metadata": {},
     "output_type": "execute_result"
    }
   ],
   "source": [
    "#same data but numeric\n",
    "train.groupby('animal_type').target_outcome.value_counts(normalize=True)"
   ]
  },
  {
   "cell_type": "markdown",
   "id": "4ddec890",
   "metadata": {},
   "source": [
    "#### How much of each outcome do cats and dogs represent?\n",
    "\n",
    "Dogs and cats represent $0.92$ of the data. Unsurprisingly then, they also represent $0.98$ of adoptions and $0.96$ of transfers."
   ]
  },
  {
   "cell_type": "code",
   "execution_count": 41,
   "id": "060f520d",
   "metadata": {},
   "outputs": [
    {
     "data": {
      "text/plain": [
       "Text(0.5, 0, 'Animal Outcome')"
      ]
     },
     "execution_count": 41,
     "metadata": {},
     "output_type": "execute_result"
    },
    {
     "data": {
      "image/png": "[encoded data removed]",
      "text/plain": [
       "<Figure size 1080x432 with 1 Axes>"
      ]
     },
     "metadata": {
      "needs_background": "light"
     },
     "output_type": "display_data"
    }
   ],
   "source": [
    "#make a boolean column\n",
    "train['is_dog_cat'] = train['animal_type'].isin(['Cat', 'Dog'])\n",
    "#plot the target outcome hued by is_dog_cat\n",
    "plt.figure(figsize=PLT_SIZE)\n",
    "sns.countplot(data=train, x='target_outcome', hue='is_dog_cat')\n",
    "#set strings\n",
    "plt.title('Outcome Filtered by Dog or Cat Status')\n",
    "plt.xlabel('Animal Outcome')"
   ]
  },
  {
   "cell_type": "code",
   "execution_count": 43,
   "id": "5cfcbbd8",
   "metadata": {},
   "outputs": [
    {
     "data": {
      "text/plain": [
       "target_outcome   is_dog_cat\n",
       "Adoption         True          0.982046\n",
       "                 False         0.017954\n",
       "Other            True          0.770077\n",
       "                 False         0.229923\n",
       "Return to Owner  True          0.993289\n",
       "                 False         0.006711\n",
       "Transfer         True          0.968734\n",
       "                 False         0.031266\n",
       "Name: is_dog_cat, dtype: float64"
      ]
     },
     "execution_count": 43,
     "metadata": {},
     "output_type": "execute_result"
    }
   ],
   "source": [
    "#same data but numeric\n",
    "train.groupby('target_outcome').is_dog_cat.value_counts(normalize=True)"
   ]
  },
  {
   "cell_type": "code",
   "execution_count": 44,
   "id": "9384b6fe",
   "metadata": {},
   "outputs": [
    {
     "data": {
      "text/plain": [
       "0.9290841273821464"
      ]
     },
     "execution_count": 44,
     "metadata": {},
     "output_type": "execute_result"
    }
   ],
   "source": [
    "#how much of the data is represented by cats and dogs\n",
    "train.is_dog_cat.mean()"
   ]
  },
  {
   "cell_type": "markdown",
   "id": "e7e9b69e",
   "metadata": {},
   "source": [
    "#### What is the rate of adoption among cats and dogs?\n",
    "\n",
    "Adoption rate among only cats and dogs is $0.46$, and the transfer rate is $0.35$. "
   ]
  },
  {
   "cell_type": "code",
   "execution_count": 50,
   "id": "1fd36a3d",
   "metadata": {},
   "outputs": [
    {
     "data": {
      "text/plain": [
       "Text(0.5, 0, 'Animal Outcome')"
      ]
     },
     "execution_count": 50,
     "metadata": {},
     "output_type": "execute_result"
    },
    {
     "data": {
      "image/png": "[encoded data removed]",
      "text/plain": [
       "<Figure size 1080x432 with 1 Axes>"
      ]
     },
     "metadata": {
      "needs_background": "light"
     },
     "output_type": "display_data"
    }
   ],
   "source": [
    "#plot the target outcome hued by is_dog_cat\n",
    "plt.figure(figsize=PLT_SIZE)\n",
    "sns.countplot(data=train[train.is_dog_cat], x='target_outcome')\n",
    "#set strings\n",
    "plt.title('Outcomes Among Cats and Dogs')\n",
    "plt.xlabel('Animal Outcome')"
   ]
  },
  {
   "cell_type": "code",
   "execution_count": 52,
   "id": "e012aeb2",
   "metadata": {},
   "outputs": [
    {
     "data": {
      "text/plain": [
       "Adoption           0.459491\n",
       "Transfer           0.345462\n",
       "Other              0.190054\n",
       "Return to Owner    0.004993\n",
       "Name: target_outcome, dtype: float64"
      ]
     },
     "execution_count": 52,
     "metadata": {},
     "output_type": "execute_result"
    }
   ],
   "source": [
    "#same data but numeric\n",
    "train[train.is_dog_cat].target_outcome.value_counts(normalize=True)"
   ]
  },
  {
   "cell_type": "markdown",
   "id": "1da24237",
   "metadata": {},
   "source": [
    "<a href='#contents'>Back to Contents</a>\n",
    "\n",
    "### What are the animals who get adopted like at intake? <a name='intake_condition'></a>\n",
    "\n",
    "#### Key Takeaways\n",
    "- $0.72$ of intake types are strays, that majority of which are cats and dogs\n",
    "- Most ($0.84$) are in normal condition.\n",
    "\n",
    "#### What are the intake types of animals in general?\n",
    "\n",
    "The majority of animals at intake are strays with a proportion of strays at $0.72$, followed by owner surrender."
   ]
  },
  {
   "cell_type": "code",
   "execution_count": 57,
   "id": "a8a8dfc5",
   "metadata": {},
   "outputs": [
    {
     "data": {
      "text/plain": [
       "Text(0.5, 0, 'Intake type')"
      ]
     },
     "execution_count": 57,
     "metadata": {},
     "output_type": "execute_result"
    },
    {
     "data": {
      "image/png": "[encoded data removed]",
      "text/plain": [
       "<Figure size 1080x432 with 1 Axes>"
      ]
     },
     "metadata": {
      "needs_background": "light"
     },
     "output_type": "display_data"
    }
   ],
   "source": [
    "#make plot\n",
    "plt.figure(figsize=PLT_SIZE)\n",
    "sns.countplot(data=train, x='intake_type', hue='is_dog_cat')\n",
    "#set strings\n",
    "plt.title('Animals by Intake Type, Hued by Cat or Dog')\n",
    "plt.xlabel('Intake type')"
   ]
  },
  {
   "cell_type": "code",
   "execution_count": 58,
   "id": "61b9e56c",
   "metadata": {},
   "outputs": [
    {
     "data": {
      "text/plain": [
       "Stray                 0.723624\n",
       "Owner Surrender       0.167173\n",
       "Public Assist         0.052987\n",
       "Wildlife              0.047815\n",
       "Abandoned             0.006394\n",
       "Euthanasia Request    0.002006\n",
       "Name: intake_type, dtype: float64"
      ]
     },
     "execution_count": 58,
     "metadata": {},
     "output_type": "execute_result"
    }
   ],
   "source": [
    "train['intake_type'].value_counts(normalize=True)"
   ]
  },
  {
   "cell_type": "markdown",
   "id": "9acbb323",
   "metadata": {},
   "source": [
    "#### What is the intake condition of the animals?\n",
    "\n",
    "The majority of animals ($0.84$) are in normal condition."
   ]
  },
  {
   "cell_type": "code",
   "execution_count": 61,
   "id": "69a68118",
   "metadata": {},
   "outputs": [
    {
     "data": {
      "text/plain": [
       "<matplotlib.legend.Legend at 0x7fa0f8ba03a0>"
      ]
     },
     "execution_count": 61,
     "metadata": {},
     "output_type": "execute_result"
    },
    {
     "data": {
      "image/png": "[encoded data removed]",
      "text/plain": [
       "<Figure size 1080x432 with 1 Axes>"
      ]
     },
     "metadata": {
      "needs_background": "light"
     },
     "output_type": "display_data"
    }
   ],
   "source": [
    "#make plot\n",
    "plt.figure(figsize=PLT_SIZE)\n",
    "sns.countplot(data=train, x='intake_condition', hue='is_dog_cat')\n",
    "#set strings\n",
    "plt.title('Animals by Intake Condition')\n",
    "plt.xlabel('Intake type')\n",
    "plt.legend(loc='upper right')"
   ]
  },
  {
   "cell_type": "code",
   "execution_count": 63,
   "id": "2e2c3ff7",
   "metadata": {},
   "outputs": [
    {
     "data": {
      "text/plain": [
       "Normal        0.842073\n",
       "Injured       0.062155\n",
       "Sick          0.050260\n",
       "Nursing       0.033444\n",
       "Aged          0.003432\n",
       "Neonatal      0.003369\n",
       "Other         0.001959\n",
       "Medical       0.001081\n",
       "Feral         0.001034\n",
       "Pregnant      0.000784\n",
       "Behavior      0.000298\n",
       "Space         0.000031\n",
       "Med Urgent    0.000031\n",
       "Med Attn      0.000016\n",
       "Panleuk       0.000016\n",
       "Agonal        0.000016\n",
       "Name: intake_condition, dtype: float64"
      ]
     },
     "execution_count": 63,
     "metadata": {},
     "output_type": "execute_result"
    }
   ],
   "source": [
    "#same information but numeric\n",
    "train.intake_condition.value_counts(normalize=True)"
   ]
  },
  {
   "cell_type": "markdown",
   "id": "44137b25",
   "metadata": {},
   "source": [
    "\n",
    "### Are owner surrenders or public assistance intakes more likely to be adopted?"
   ]
  },
  {
   "cell_type": "code",
   "execution_count": 67,
   "id": "52066c9c",
   "metadata": {},
   "outputs": [
    {
     "data": {
      "text/plain": [
       "Text(0.5, 0, 'Animal Outcome')"
      ]
     },
     "execution_count": 67,
     "metadata": {},
     "output_type": "execute_result"
    },
    {
     "data": {
      "image/png": "[encoded data removed]",
      "text/plain": [
       "<Figure size 1080x432 with 1 Axes>"
      ]
     },
     "metadata": {
      "needs_background": "light"
     },
     "output_type": "display_data"
    }
   ],
   "source": [
    "#make plot\n",
    "plt.figure(figsize=PLT_SIZE)\n",
    "sns.countplot(data=train[train.intake_type.isin(['Public Assist', 'Owner Surrender'])], x='target_outcome')\n",
    "#set strings\n",
    "plt.title('Owner Surrender and Public Assist Outcomes')\n",
    "plt.xlabel('Animal Outcome')"
   ]
  },
  {
   "cell_type": "code",
   "execution_count": 82,
   "id": "0c8f1e53",
   "metadata": {
    "scrolled": true
   },
   "outputs": [
    {
     "data": {
      "text/plain": [
       "Adoption           0.585919\n",
       "Transfer           0.326427\n",
       "Other              0.079779\n",
       "Return to Owner    0.007875\n",
       "Name: target_outcome, dtype: float64"
      ]
     },
     "execution_count": 82,
     "metadata": {},
     "output_type": "execute_result"
    }
   ],
   "source": [
    "#same data but numeric\n",
    "train[train.intake_type.isin(['Owner Surrender'])].target_outcome.value_counts(normalize=True)"
   ]
  },
  {
   "cell_type": "markdown",
   "id": "bb977ed7",
   "metadata": {},
   "source": [
    "#### Hypothesis Testing\n",
    "\n",
    "$H_0$ : Owner surrender is independent of adoption\n",
    "\n",
    "$H_a$ : Owner Surrender is not independent of adoption"
   ]
  },
  {
   "cell_type": "code",
   "execution_count": null,
   "id": "410d169f",
   "metadata": {},
   "outputs": [],
   "source": []
  }
 ],
 "metadata": {
  "kernelspec": {
   "display_name": "Python 3 (ipykernel)",
   "language": "python",
   "name": "python3"
  },
  "language_info": {
   "codemirror_mode": {
    "name": "ipython",
    "version": 3
   },
   "file_extension": ".py",
   "mimetype": "text/x-python",
   "name": "python",
   "nbconvert_exporter": "python",
   "pygments_lexer": "ipython3",
   "version": "3.9.12"
  }
 },
 "nbformat": 4,
 "nbformat_minor": 5
}

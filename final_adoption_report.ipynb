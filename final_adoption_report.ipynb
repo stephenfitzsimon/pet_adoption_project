{
 "cells": [
  {
   "cell_type": "markdown",
   "id": "05920185",
   "metadata": {},
   "source": [
    "# Austin Shelter Pet Outcomes <a name='top'></a>\n",
    "*By Stephen FitzSimon*\n",
    "\n",
    "## Key Takeaways From This Report\n",
    "\n",
    "## Contents <a name='contents'></a>\n",
    "\n",
    "*Note: the following hyperlinks will only work on local copies of this notebook; they will not function on GitHub!*\n",
    "\n",
    "1. <a href='#introduction'>Introduction</a>\n",
    "    1. <a href='#data_source'>Data Source</a>\n",
    "2. <a href='#wrangle'>Wrangle The Data</a>\n",
    "3. <a href='#exploring'>Exploring The Data</a>\n",
    "4. <a href='#model'>Modeling</a>    \n",
    "\n",
    "    \n",
    "## Introduction <a name='introduction'></a>\n",
    "\n",
    "<a href='https://www.austintexas.gov/austin-animal-center'>Austin Animal Center</a> provides animal services for the city of Austin, and unincorporated Travis county.  Since 2010 they have implemented a <a href='https://www.austintexas.gov/page/no-kill-plan'>'no-kill' strategy</a> to increase live outcomes for adoptions; this included community partnerships, community education, increased animal services and better data collection.  The goal of this project is to help understand how the Austin Animal Center can provide better services and outcomes for the animals and owners that they serve.  \n",
    "\n",
    "This report is structered around the data science pipeline of 1. wrangle the data, 2. explore the data and 3. model the data.  Each sections includes key takeaways followed by a discussion that provides more in depth analysis; these are designed to provide all the necessary information to understand the project and arguments.  For more technical and analytical information, visualizations, calculations and code follow these two sections along with annotations and discussions.  If more detail is needed, reference the series of other notebooks as mentioned in the <a href='https://github.com/stephenfitzsimon/pet_adoption_project/blob/main/README.md'>readme file</a>. Hyperlinks are provided throughout to allow the user to navigate to relevant sections.\n",
    "\n",
    "### Data Source <a name='data_source'></a>\n",
    "The City of Austin provides an <a href='https://data.austintexas.gov/'>open data website</a> where the data for this project can be found.\n",
    "- <a href= 'https://data.austintexas.gov/Health-and-Community-Services/Austin-Animal-Center-Outcomes/9t4d-g238'>Outcome data can be found here</a>\n",
    "- <a href= 'https://data.austintexas.gov/Health-and-Community-Services/Austin-Animal-Center-Intakes/wter-evkm'>Intake data can be found here</a>\n",
    "    \n",
    "### Intro to the Target Variable\n",
    "    \n",
    "The model attempts to predict the outcomes for animals the first time they arrive at the shelter.  In the interest of simplicity, the various categories in the `outcome_type` column are aggregated into four categories. The model attempts to predict one of for outcomes as aggregated from the `outcome_type` column of the data:\n",
    "1. Adoption\n",
    "2. Transfer\n",
    "3. Return to Owner (include Rto-Adopt category)\n",
    "4. Other (includes the following: euthanised, died, disposal, missing, relocate, lost)\n",
    "\n",
    "Many of the outcomes in the Other category were due to non-pet status (for example `A860153` is a bat and `A860288` is a grackle, both of which at intake were injured).  Of the euthanised/died animals, most were considered suffering/sick/injured.\n",
    "\n",
    "<a href='#contents'>Back to Contents</a>"
   ]
  },
  {
   "cell_type": "code",
   "execution_count": 1,
   "id": "0d2b5894",
   "metadata": {},
   "outputs": [],
   "source": [
    "#data science modules used\n",
    "import pandas as pd\n",
    "import seaborn as sns\n",
    "import matplotlib.pyplot as plt\n",
    "from sklearn import metrics\n",
    "\n",
    "#custom modules used\n",
    "import wrangle\n",
    "import explore\n",
    "\n",
    "#global constants\n",
    "PLT_SIZE = (15,6) #to format the visualizations"
   ]
  },
  {
   "cell_type": "markdown",
   "id": "414b69d5",
   "metadata": {},
   "source": [
    "## Wrangle The Data <a name='wrangle'></a>\n",
    "\n",
    "### Key Wrangle Takeaways\n",
    "- Two tables of data are retrieved from the Austin <a href='https://data.austintexas.gov/'>open data website</a>\n",
    "- The `Outcome` table contained 141170 records and 12 columns; the `Intake` table contained 141303 records and 12 columns\n",
    "- Both tables were merged on the key `animal_id`\n",
    "    - Duplicate records were dropped.  Many of the duplicate records were the same animal.\n",
    "- Date columns were aggregated into `intake_date` and `outcome_date` and scaled to days\n",
    "- Repeated columns were removed (example: `color` and `breed` were the same for both intake and outcome tables)\n",
    "- `name` and `outcome_subtype` had null values inferred\n",
    "- Remaining nulls were dropped\n",
    "- Final table is 113944 rows and 17 columns\n",
    "\n",
    "### Discusion\n",
    "\n",
    "Data was retrieved from the Austin <a href='https://data.austintexas.gov/'>open data website</a> via the Socrata Open Data API (SODA) and the `sodapy` python module.  The <a href= 'https://data.austintexas.gov/Health-and-Community-Services/Austin-Animal-Center-Outcomes/9t4d-g238'>outcome data</a> contained 141170 records with 12 columns and the <a href= 'https://data.austintexas.gov/Health-and-Community-Services/Austin-Animal-Center-Intakes/wter-evkm'>intake data</a> contained 141303 records across 12 rows.  \n",
    "\n",
    "Each row represents a single animal intake or outcome (a data dictionary can be found <a href='#appedix'>here</a>). The tables were merged on the `animal_id` column; however, duplicates were dropped for this project.  Many of the duplicate rows represented a single animal that had been returned to the shelter after a series of different outcomes--for example, record `A700407` indicates that the animal most likely escaped from the owner and was then returned to the owner multiple times over a period of 6 years (the animal is listed as `Stray` on the `Intake` table, and the the outcome is listed as `Returned to owner` / `Adoption` on the `Outcome` table).  While these records would be ideal to concatenate in a larger project, this project focuses on the adoptability of animals first entering the shelter.  It is most likely the case that the reduplicated records represent an animal that is difficult to adopt.\n",
    "\n",
    "The date columns did not differ intra-table, and so were aggregated into `intake_date` and `outcome_date` and truncated to year-month-date form.  In addition, columns repeated on both tables were found to contain the same information, and these replicated columns were dropped.  The `outcome_subtype` and `name` columns had a significant number of null values; these were inferred to be `no name` and `no subtype`.  Several columns--`outcome_type`, `sex_at_outcome`, `age_at_outcome` and `sex_at_intake`--had null value; at most these represented 15 rows, and consequently were dropped. The `age_upon_intake` and `age_upon_outcome` both contained ages that were `String` data types of the forms `\"x years\"`, `\"x months\"` or `\"x days\"`. These were converted to a number of days; months were assumed to have $30.5$ days, and years were assumed to have $365.25$ days.  The final calculation was then rounded to `int` datatype.  As these ages are most likely estimation on the part of shelter staff, this is most likely enough accuracy.  Finally, as `date_of_birth` most likely was also an estimation, the column was dropped.\n",
    "\n",
    "### Code\n",
    "\n",
    "Code used in this section is contained in `wrangle.py` which programmatically retrieves and prepares the data.  It contains the following functions:\n",
    "- `get_pet_data` : Checks if a csv file is present, and retrieves data from csv or url. A url query can be forced via `query_url=True`\n",
    "- `download_data` : Returns the pet outcome and pet intake dataframes from the SODA API\n",
    "- `make_date_columns` : Aggregates datetime columns into outcome and intake dates\n",
    "- `null_fill_and_drop` : Fills nulls and drops null values. `name` columns nulls are inferred as no name and `outcome_subtype` is inferred as no subtype.  Remaining nulls are dropped\n",
    "- `convert_age_column` : Converts age columns to days\n",
    "- `rename_intake_cols` : Renames the columns from the intake table to make calling them easier\n",
    "- `rename_intake` : Suffixes the column names of the intake table to distinguish from outcome columns after merge\n",
    "- `join_tables` : Joins the intake and outake tables on the animal_id column\n",
    "- `make_target_column` : Maps the various `outcome_types` to the target outcomes\n",
    "- Flow control functions:\n",
    "    - `make_pet_dataframe` : Flow control function to retrieve data and prepare it for exploration\n",
    "    - `get_pet_dataframe` : Flow control function to get dataframe from url or .csv file and join both tables\n",
    "    - `prepare_pet_dataframe` : Flow control function to prepare data"
   ]
  },
  {
   "cell_type": "code",
   "execution_count": 2,
   "id": "9dee8361",
   "metadata": {},
   "outputs": [
    {
     "name": "stdout",
     "output_type": "stream",
     "text": [
      "Returning saved csv files.\n"
     ]
    },
    {
     "data": {
      "text/html": [
       "<div>\n",
       "<style scoped>\n",
       "    .dataframe tbody tr th:only-of-type {\n",
       "        vertical-align: middle;\n",
       "    }\n",
       "\n",
       "    .dataframe tbody tr th {\n",
       "        vertical-align: top;\n",
       "    }\n",
       "\n",
       "    .dataframe thead th {\n",
       "        text-align: right;\n",
       "    }\n",
       "</style>\n",
       "<table border=\"1\" class=\"dataframe\">\n",
       "  <thead>\n",
       "    <tr style=\"text-align: right;\">\n",
       "      <th></th>\n",
       "      <th>animal_id</th>\n",
       "      <th>name</th>\n",
       "      <th>outcome_type</th>\n",
       "      <th>animal_type</th>\n",
       "      <th>sex_upon_outcome</th>\n",
       "      <th>breed</th>\n",
       "      <th>color</th>\n",
       "      <th>outcome_subtype</th>\n",
       "      <th>found_location</th>\n",
       "      <th>intake_type</th>\n",
       "      <th>intake_condition</th>\n",
       "      <th>sex_upon_intake</th>\n",
       "      <th>outcome_date</th>\n",
       "      <th>intake_date</th>\n",
       "      <th>target_outcome</th>\n",
       "      <th>age_at_outcome</th>\n",
       "      <th>age_at_intake</th>\n",
       "    </tr>\n",
       "  </thead>\n",
       "  <tbody>\n",
       "    <tr>\n",
       "      <th>65995</th>\n",
       "      <td>A741128</td>\n",
       "      <td>Sugarcubes</td>\n",
       "      <td>Adoption</td>\n",
       "      <td>Cat</td>\n",
       "      <td>Neutered Male</td>\n",
       "      <td>Domestic Shorthair Mix</td>\n",
       "      <td>Blue Tabby</td>\n",
       "      <td>no subtype</td>\n",
       "      <td>6300 S Congress Ave in Austin (TX)</td>\n",
       "      <td>Stray</td>\n",
       "      <td>Normal</td>\n",
       "      <td>Intact Male</td>\n",
       "      <td>2017-01-02</td>\n",
       "      <td>2016-12-28</td>\n",
       "      <td>Adoption</td>\n",
       "      <td>92</td>\n",
       "      <td>61</td>\n",
       "    </tr>\n",
       "    <tr>\n",
       "      <th>84341</th>\n",
       "      <td>A709262</td>\n",
       "      <td>*Peter</td>\n",
       "      <td>Adoption</td>\n",
       "      <td>Cat</td>\n",
       "      <td>Neutered Male</td>\n",
       "      <td>Siamese Mix</td>\n",
       "      <td>Seal Point</td>\n",
       "      <td>Foster</td>\n",
       "      <td>600 W William Cannon Dr in Austin (TX)</td>\n",
       "      <td>Stray</td>\n",
       "      <td>Normal</td>\n",
       "      <td>Intact Male</td>\n",
       "      <td>2015-09-12</td>\n",
       "      <td>2015-08-06</td>\n",
       "      <td>Adoption</td>\n",
       "      <td>61</td>\n",
       "      <td>28</td>\n",
       "    </tr>\n",
       "    <tr>\n",
       "      <th>29522</th>\n",
       "      <td>A801791</td>\n",
       "      <td>no name</td>\n",
       "      <td>Disposal</td>\n",
       "      <td>Other</td>\n",
       "      <td>Unknown</td>\n",
       "      <td>Bat</td>\n",
       "      <td>Brown/Brown</td>\n",
       "      <td>no subtype</td>\n",
       "      <td>900 Barton Springs in Austin (TX)</td>\n",
       "      <td>Wildlife</td>\n",
       "      <td>Sick</td>\n",
       "      <td>Unknown</td>\n",
       "      <td>2019-08-10</td>\n",
       "      <td>2019-08-09</td>\n",
       "      <td>Other</td>\n",
       "      <td>730</td>\n",
       "      <td>730</td>\n",
       "    </tr>\n",
       "    <tr>\n",
       "      <th>86976</th>\n",
       "      <td>A707441</td>\n",
       "      <td>no name</td>\n",
       "      <td>Transfer</td>\n",
       "      <td>Dog</td>\n",
       "      <td>Spayed Female</td>\n",
       "      <td>Great Pyrenees</td>\n",
       "      <td>White</td>\n",
       "      <td>Partner</td>\n",
       "      <td>15128 Mandarin Xing in Travis (TX)</td>\n",
       "      <td>Stray</td>\n",
       "      <td>Normal</td>\n",
       "      <td>Intact Female</td>\n",
       "      <td>2015-07-19</td>\n",
       "      <td>2015-07-13</td>\n",
       "      <td>Transfer</td>\n",
       "      <td>365</td>\n",
       "      <td>365</td>\n",
       "    </tr>\n",
       "    <tr>\n",
       "      <th>69456</th>\n",
       "      <td>A735460</td>\n",
       "      <td>*Majic</td>\n",
       "      <td>Transfer</td>\n",
       "      <td>Cat</td>\n",
       "      <td>Neutered Male</td>\n",
       "      <td>Domestic Shorthair Mix</td>\n",
       "      <td>Black/White</td>\n",
       "      <td>Partner</td>\n",
       "      <td>1004 Ellingson in Austin (TX)</td>\n",
       "      <td>Owner Surrender</td>\n",
       "      <td>Normal</td>\n",
       "      <td>Neutered Male</td>\n",
       "      <td>2016-09-28</td>\n",
       "      <td>2016-09-24</td>\n",
       "      <td>Transfer</td>\n",
       "      <td>1096</td>\n",
       "      <td>1096</td>\n",
       "    </tr>\n",
       "  </tbody>\n",
       "</table>\n",
       "</div>"
      ],
      "text/plain": [
       "      animal_id        name outcome_type animal_type sex_upon_outcome  \\\n",
       "65995   A741128  Sugarcubes     Adoption         Cat    Neutered Male   \n",
       "84341   A709262      *Peter     Adoption         Cat    Neutered Male   \n",
       "29522   A801791     no name     Disposal       Other          Unknown   \n",
       "86976   A707441     no name     Transfer         Dog    Spayed Female   \n",
       "69456   A735460      *Majic     Transfer         Cat    Neutered Male   \n",
       "\n",
       "                        breed        color outcome_subtype  \\\n",
       "65995  Domestic Shorthair Mix   Blue Tabby      no subtype   \n",
       "84341             Siamese Mix   Seal Point          Foster   \n",
       "29522                     Bat  Brown/Brown      no subtype   \n",
       "86976          Great Pyrenees        White         Partner   \n",
       "69456  Domestic Shorthair Mix  Black/White         Partner   \n",
       "\n",
       "                               found_location      intake_type  \\\n",
       "65995      6300 S Congress Ave in Austin (TX)            Stray   \n",
       "84341  600 W William Cannon Dr in Austin (TX)            Stray   \n",
       "29522       900 Barton Springs in Austin (TX)         Wildlife   \n",
       "86976      15128 Mandarin Xing in Travis (TX)            Stray   \n",
       "69456           1004 Ellingson in Austin (TX)  Owner Surrender   \n",
       "\n",
       "      intake_condition sex_upon_intake outcome_date intake_date  \\\n",
       "65995           Normal     Intact Male   2017-01-02  2016-12-28   \n",
       "84341           Normal     Intact Male   2015-09-12  2015-08-06   \n",
       "29522             Sick         Unknown   2019-08-10  2019-08-09   \n",
       "86976           Normal   Intact Female   2015-07-19  2015-07-13   \n",
       "69456           Normal   Neutered Male   2016-09-28  2016-09-24   \n",
       "\n",
       "      target_outcome  age_at_outcome  age_at_intake  \n",
       "65995       Adoption              92             61  \n",
       "84341       Adoption              61             28  \n",
       "29522          Other             730            730  \n",
       "86976       Transfer             365            365  \n",
       "69456       Transfer            1096           1096  "
      ]
     },
     "execution_count": 2,
     "metadata": {},
     "output_type": "execute_result"
    }
   ],
   "source": [
    "df = wrangle.make_pet_dataframe()\n",
    "df.sample(5)"
   ]
  },
  {
   "cell_type": "markdown",
   "id": "b4ab1876",
   "metadata": {},
   "source": [
    "<a href='#contents'>Backt to Contents</a>\n",
    "\n",
    "## Exploring The Data <a name='exploring'></a>\n",
    "\n",
    "### Key Explore Takeaways\n",
    "- Overall adoption rate is $0.43$; adoption and transfer represent the majority of outcomes ($0.76$ of all outcomes)\n",
    "- As the majority of animals in the data are cats or dogs ($0.92$ of the data), the majority of the exploration focuses on these two animal types\n",
    "    - The adoption rate among cats and dogs is $0.45$\n",
    "- Most animals are brought in as strays ($0.72$) and are in normal condition ($0.84$)\n",
    "- The average age of adoption of animals is 183 days old\n",
    "- Intake and adoption rates peak in May-June, and is largely driven by seasonality of cat intakes\n",
    "- The average length of stay at the shelter is 26 days for dogs and 40 for cats.\n",
    "\n",
    "\n",
    "### Section Contents\n",
    "\n",
    "1. <a href='#split'>Splitting data into Train, Validate and Test </a>\n",
    "1. <a href='#prop_outcome'>What are typical animal outcomes?</a>\n",
    "2. <a href='#intake_condition'>What is the intake condition of adopted animals?</a>\n",
    "3. <a href='#age_adoption'>Among cats and dogs, are they likely to be adopted at a certain age? </a>\n",
    "5. <a href='#date_intake'>What is the relationship between date of intake and adoption status? </a>\n",
    "6. <a href='#breed_color'>Are certain breeds/colors of dogs and cats more popular as adoptions? </a>\n",
    "7. <a href='#avg_stay'>What is the length of stay of animals?</a>\n",
    "\n",
    "#### How subsections are structured\n",
    "\n",
    "The following subsections are titled by a question, which is followed by a discussion.  Following, visualization and numeric data are presented; in addition, hypothesis tests are presented if applicable.\n",
    "\n",
    "### Discussion\n",
    "\n",
    "The overall adoption rate in the data is $0.43$.  However, the majority of the data ($0.92$) represents cats and dogs which have a higher adoption rate of $0.45$.  This would be expected as, based off of experience, the majority of people who visit a shelter are looking to adopt a cat or a dog.  In addition, $0.67$ of the non cat or dog animals were categorized as wildlife (the majority of which were bats), and are not adoptable.  This is also shown by the fact that dogs and cats represent $0.92$ of all adoptions and $0.96$ of all transfers.\n",
    "\n",
    "In terms of animal intake, the most common intake type is stray, representing $0.72$ of all intakes.  The majority of these animals are classified as 'normal' condition, representing $0.84$ of all intakes.  Stray intakes represent $0.44$ of all adotions.  However, $0.58$ of all adoptions are owner surrenders; this might be surprising, as it might be expected that owners surrender problem pets, but this might not be the case. \n",
    "\n",
    "Younger animals are more adoptable; most animals are adotped at 183 days old.  There was not a major difference between animal types. Intakes for all animals peak in May-June, with adoptions peaking at the same time.  This is largely driven by cats; cat intakes and adoptions peak in the summer, whereas dog intake and adoption is relatively constant throughout the year. \n",
    "\n",
    "Happily, owners seem to not be looking for a particular breed/color to adopt. Among cats, the colors match up nearly perfectly; the one exception seems that black cats are slightly more difficult to adopt.  In terms of dog breed, Labrador Retrievers are easier to adopt; even though there are mainly Pit Bull Mixes that are more likely to be received at intake (there is a $-0.015$ difference between the numbers, every other column has a difference of less than $\\pm 0.01$).\n",
    "\n",
    "The average length of stay of adopted animals is 32 days; however, dogs are adopted about 2 weeks earlier than cats.\n",
    "\n",
    "### Code\n",
    "\n",
    "All hypothesis testing is done at a 95% confidence level ($α = 0.05$).\n",
    "\n",
    "The following code is used in this section:\n",
    "- From the `wrangle.py` module\n",
    "    - `split_data(df, target_col, cat_cols)` : Gets the proportion of each value in `target_col` for `cat_cols` passed and each subcategory in the cat_cols column.  Essentially performs a `value_counts(normalize=True)` on each category for the `target_col` values\n",
    "- From the `explore.py` module\n",
    "    - `chi_square_test` : performs a  $χ^2$ test\n",
    "    - `t_test_lesser` : performs a one sample t-test\n",
    "    - `get_top_ten_compare` : compares intake and adoption rates bby breed and color\n",
    "    - `mann_whitney` : performs a Mann Whitney U test\n",
    "    \n",
    "<a href='#contents'>Back to Contents</a>"
   ]
  },
  {
   "cell_type": "markdown",
   "id": "13b6de27",
   "metadata": {},
   "source": [
    "### Splitting data into Train, Validate and Test <a name='split'></a>\n",
    "\n",
    "Data is split into train, validate and test subsets.  All exploration is done on the train set; validate and test sets are reserved to evaluate machine learning models."
   ]
  },
  {
   "cell_type": "code",
   "execution_count": 3,
   "id": "484eabcd",
   "metadata": {},
   "outputs": [],
   "source": [
    "train, validate, test = wrangle.split_data(df) #split the data"
   ]
  },
  {
   "cell_type": "code",
   "execution_count": 4,
   "id": "b44aaf13",
   "metadata": {},
   "outputs": [
    {
     "data": {
      "text/plain": [
       "((63808, 17), (27347, 17), (22789, 17))"
      ]
     },
     "execution_count": 4,
     "metadata": {},
     "output_type": "execute_result"
    }
   ],
   "source": [
    "train.shape, validate.shape, test.shape #show the size of the subsets"
   ]
  },
  {
   "cell_type": "markdown",
   "id": "059f2d75",
   "metadata": {},
   "source": [
    "Take a look at a sample of the train data:"
   ]
  },
  {
   "cell_type": "code",
   "execution_count": 5,
   "id": "c83ad695",
   "metadata": {
    "scrolled": true
   },
   "outputs": [
    {
     "data": {
      "text/html": [
       "<div>\n",
       "<style scoped>\n",
       "    .dataframe tbody tr th:only-of-type {\n",
       "        vertical-align: middle;\n",
       "    }\n",
       "\n",
       "    .dataframe tbody tr th {\n",
       "        vertical-align: top;\n",
       "    }\n",
       "\n",
       "    .dataframe thead th {\n",
       "        text-align: right;\n",
       "    }\n",
       "</style>\n",
       "<table border=\"1\" class=\"dataframe\">\n",
       "  <thead>\n",
       "    <tr style=\"text-align: right;\">\n",
       "      <th></th>\n",
       "      <th>animal_id</th>\n",
       "      <th>name</th>\n",
       "      <th>outcome_type</th>\n",
       "      <th>animal_type</th>\n",
       "      <th>sex_upon_outcome</th>\n",
       "      <th>breed</th>\n",
       "      <th>color</th>\n",
       "      <th>outcome_subtype</th>\n",
       "      <th>found_location</th>\n",
       "      <th>intake_type</th>\n",
       "      <th>intake_condition</th>\n",
       "      <th>sex_upon_intake</th>\n",
       "      <th>outcome_date</th>\n",
       "      <th>intake_date</th>\n",
       "      <th>target_outcome</th>\n",
       "      <th>age_at_outcome</th>\n",
       "      <th>age_at_intake</th>\n",
       "    </tr>\n",
       "  </thead>\n",
       "  <tbody>\n",
       "    <tr>\n",
       "      <th>53271</th>\n",
       "      <td>A757775</td>\n",
       "      <td>*Nero</td>\n",
       "      <td>Adoption</td>\n",
       "      <td>Dog</td>\n",
       "      <td>Neutered Male</td>\n",
       "      <td>Pit Bull Mix</td>\n",
       "      <td>Tan/White</td>\n",
       "      <td>no subtype</td>\n",
       "      <td>18312 Cameron Rd in Manor (TX)</td>\n",
       "      <td>Stray</td>\n",
       "      <td>Normal</td>\n",
       "      <td>Intact Male</td>\n",
       "      <td>2017-11-24</td>\n",
       "      <td>2017-09-06</td>\n",
       "      <td>Adoption</td>\n",
       "      <td>730</td>\n",
       "      <td>730</td>\n",
       "    </tr>\n",
       "    <tr>\n",
       "      <th>53279</th>\n",
       "      <td>A558639</td>\n",
       "      <td>Jesebel</td>\n",
       "      <td>Return to Owner</td>\n",
       "      <td>Cat</td>\n",
       "      <td>Spayed Female</td>\n",
       "      <td>Domestic Shorthair Mix</td>\n",
       "      <td>Calico</td>\n",
       "      <td>no subtype</td>\n",
       "      <td>6301 West Slaughter Lane in Austin (TX)</td>\n",
       "      <td>Stray</td>\n",
       "      <td>Normal</td>\n",
       "      <td>Spayed Female</td>\n",
       "      <td>2017-11-24</td>\n",
       "      <td>2017-11-22</td>\n",
       "      <td>Other</td>\n",
       "      <td>3287</td>\n",
       "      <td>3287</td>\n",
       "    </tr>\n",
       "    <tr>\n",
       "      <th>95332</th>\n",
       "      <td>A691586</td>\n",
       "      <td>*Cassidy</td>\n",
       "      <td>Transfer</td>\n",
       "      <td>Dog</td>\n",
       "      <td>Spayed Female</td>\n",
       "      <td>Pit Bull Mix</td>\n",
       "      <td>Tan/White</td>\n",
       "      <td>Partner</td>\n",
       "      <td>6807 Pondsdale Ln in Austin (TX)</td>\n",
       "      <td>Stray</td>\n",
       "      <td>Normal</td>\n",
       "      <td>Intact Female</td>\n",
       "      <td>2014-12-24</td>\n",
       "      <td>2014-11-06</td>\n",
       "      <td>Transfer</td>\n",
       "      <td>365</td>\n",
       "      <td>365</td>\n",
       "    </tr>\n",
       "    <tr>\n",
       "      <th>111513</th>\n",
       "      <td>A668730</td>\n",
       "      <td>Opal</td>\n",
       "      <td>Adoption</td>\n",
       "      <td>Cat</td>\n",
       "      <td>Spayed Female</td>\n",
       "      <td>Domestic Shorthair Mix</td>\n",
       "      <td>Blue Tabby/White</td>\n",
       "      <td>no subtype</td>\n",
       "      <td>Tillery And Lyons in Austin (TX)</td>\n",
       "      <td>Stray</td>\n",
       "      <td>Normal</td>\n",
       "      <td>Intact Female</td>\n",
       "      <td>2013-12-12</td>\n",
       "      <td>2013-12-08</td>\n",
       "      <td>Adoption</td>\n",
       "      <td>61</td>\n",
       "      <td>61</td>\n",
       "    </tr>\n",
       "    <tr>\n",
       "      <th>45024</th>\n",
       "      <td>A776526</td>\n",
       "      <td>Bonnie</td>\n",
       "      <td>Transfer</td>\n",
       "      <td>Dog</td>\n",
       "      <td>Intact Female</td>\n",
       "      <td>Border Collie Mix</td>\n",
       "      <td>White/Black</td>\n",
       "      <td>Partner</td>\n",
       "      <td>Austin (TX)</td>\n",
       "      <td>Public Assist</td>\n",
       "      <td>Normal</td>\n",
       "      <td>Intact Female</td>\n",
       "      <td>2018-07-24</td>\n",
       "      <td>2018-07-15</td>\n",
       "      <td>Transfer</td>\n",
       "      <td>365</td>\n",
       "      <td>365</td>\n",
       "    </tr>\n",
       "  </tbody>\n",
       "</table>\n",
       "</div>"
      ],
      "text/plain": [
       "       animal_id      name     outcome_type animal_type sex_upon_outcome  \\\n",
       "53271    A757775     *Nero         Adoption         Dog    Neutered Male   \n",
       "53279    A558639   Jesebel  Return to Owner         Cat    Spayed Female   \n",
       "95332    A691586  *Cassidy         Transfer         Dog    Spayed Female   \n",
       "111513   A668730      Opal         Adoption         Cat    Spayed Female   \n",
       "45024    A776526    Bonnie         Transfer         Dog    Intact Female   \n",
       "\n",
       "                         breed             color outcome_subtype  \\\n",
       "53271             Pit Bull Mix         Tan/White      no subtype   \n",
       "53279   Domestic Shorthair Mix            Calico      no subtype   \n",
       "95332             Pit Bull Mix         Tan/White         Partner   \n",
       "111513  Domestic Shorthair Mix  Blue Tabby/White      no subtype   \n",
       "45024        Border Collie Mix       White/Black         Partner   \n",
       "\n",
       "                                 found_location    intake_type  \\\n",
       "53271            18312 Cameron Rd in Manor (TX)          Stray   \n",
       "53279   6301 West Slaughter Lane in Austin (TX)          Stray   \n",
       "95332          6807 Pondsdale Ln in Austin (TX)          Stray   \n",
       "111513         Tillery And Lyons in Austin (TX)          Stray   \n",
       "45024                               Austin (TX)  Public Assist   \n",
       "\n",
       "       intake_condition sex_upon_intake outcome_date intake_date  \\\n",
       "53271            Normal     Intact Male   2017-11-24  2017-09-06   \n",
       "53279            Normal   Spayed Female   2017-11-24  2017-11-22   \n",
       "95332            Normal   Intact Female   2014-12-24  2014-11-06   \n",
       "111513           Normal   Intact Female   2013-12-12  2013-12-08   \n",
       "45024            Normal   Intact Female   2018-07-24  2018-07-15   \n",
       "\n",
       "       target_outcome  age_at_outcome  age_at_intake  \n",
       "53271        Adoption             730            730  \n",
       "53279           Other            3287           3287  \n",
       "95332        Transfer             365            365  \n",
       "111513       Adoption              61             61  \n",
       "45024        Transfer             365            365  "
      ]
     },
     "execution_count": 5,
     "metadata": {},
     "output_type": "execute_result"
    }
   ],
   "source": [
    "train.sample(5)"
   ]
  },
  {
   "cell_type": "markdown",
   "id": "df982783",
   "metadata": {},
   "source": [
    "<a href='#contents'>Back to Contents</a>\n",
    "\n",
    "### What are typical animal outcomes? <a name='prop_outcome'></a>\n",
    "\n",
    "#### Key Takeaways\n",
    "- Adoption ($0.43$) and transfer ($0.33$) are the most common outcomes for all animals\n",
    "- Cat and dogs are most likely to be adopted or transferred\n",
    "- Cats and dogs represent $0.98$ of adoptions and $0.96$ of transfers.\n",
    "- The adoption rate among cats and dogs ($0.45$) is higher than the general adoption rate.\n",
    "\n",
    "#### What are the most common outcomes overall?\n",
    "\n",
    "The most common overall outcome for all animals is adoption, followed by transer.  These represent $0.76$ of all outcomes."
   ]
  },
  {
   "cell_type": "code",
   "execution_count": 6,
   "id": "ac72de15",
   "metadata": {},
   "outputs": [
    {
     "data": {
      "text/plain": [
       "Text(0.5, 0, 'Animal Outcome')"
      ]
     },
     "execution_count": 6,
     "metadata": {},
     "output_type": "execute_result"
    },
    {
     "data": {
      "image/png": "[encoded data removed]",
      "text/plain": [
       "<Figure size 1080x432 with 1 Axes>"
      ]
     },
     "metadata": {
      "needs_background": "light"
     },
     "output_type": "display_data"
    }
   ],
   "source": [
    "#plot the count of the target outcomes\n",
    "plt.figure(figsize=PLT_SIZE)\n",
    "sns.histplot(data=train, x='target_outcome')\n",
    "#set strings\n",
    "plt.title('Histogram of Animal Outcomes')\n",
    "plt.xlabel('Animal Outcome')"
   ]
  },
  {
   "cell_type": "code",
   "execution_count": 7,
   "id": "4b6cd767",
   "metadata": {},
   "outputs": [
    {
     "data": {
      "text/plain": [
       "Adoption           0.434710\n",
       "Transfer           0.331322\n",
       "Other              0.229297\n",
       "Return to Owner    0.004670\n",
       "Name: target_outcome, dtype: float64"
      ]
     },
     "execution_count": 7,
     "metadata": {},
     "output_type": "execute_result"
    }
   ],
   "source": [
    "# same data but proportional\n",
    "train.target_outcome.value_counts(normalize=True)"
   ]
  },
  {
   "cell_type": "markdown",
   "id": "d0cc52cf",
   "metadata": {},
   "source": [
    "#### Are some outcomes determined by animal type?\n",
    "\n",
    "Cats and dogs represent a large proportion of adopted and transfered animals.  Cats appear more likely to be transfered- I suspect that this is because cat's are likely to be part of the SCRP (Stray Cat Return Program) and the SNR (Spay Neuter Release) program."
   ]
  },
  {
   "cell_type": "code",
   "execution_count": 8,
   "id": "d13ec229",
   "metadata": {},
   "outputs": [
    {
     "data": {
      "text/plain": [
       "Text(0.5, 0, 'Animal Outcome')"
      ]
     },
     "execution_count": 8,
     "metadata": {},
     "output_type": "execute_result"
    },
    {
     "data": {
      "image/png": "[encoded data removed]",
      "text/plain": [
       "<Figure size 1080x432 with 1 Axes>"
      ]
     },
     "metadata": {
      "needs_background": "light"
     },
     "output_type": "display_data"
    }
   ],
   "source": [
    "#plot the target outcome hued by animal type\n",
    "plt.figure(figsize=PLT_SIZE)\n",
    "sns.countplot(data=train, x='target_outcome', hue='animal_type')\n",
    "#set strings\n",
    "plt.title('Outcome by Animal Type')\n",
    "plt.xlabel('Animal Outcome')"
   ]
  },
  {
   "cell_type": "code",
   "execution_count": 9,
   "id": "bf304ad1",
   "metadata": {},
   "outputs": [
    {
     "data": {
      "text/plain": [
       "animal_type  target_outcome \n",
       "Bird         Other              0.352632\n",
       "             Adoption           0.342105\n",
       "             Transfer           0.305263\n",
       "Cat          Adoption           0.453473\n",
       "             Transfer           0.440643\n",
       "             Other              0.102824\n",
       "             Return to Owner    0.003060\n",
       "Dog          Adoption           0.464567\n",
       "             Transfer           0.265182\n",
       "             Other              0.263628\n",
       "             Return to Owner    0.006623\n",
       "Livestock    Adoption           0.444444\n",
       "             Transfer           0.333333\n",
       "             Other              0.222222\n",
       "Other        Other              0.780464\n",
       "             Transfer           0.131044\n",
       "             Adoption           0.088008\n",
       "             Return to Owner    0.000484\n",
       "Name: target_outcome, dtype: float64"
      ]
     },
     "execution_count": 9,
     "metadata": {},
     "output_type": "execute_result"
    }
   ],
   "source": [
    "#same data but numeric\n",
    "train.groupby('animal_type').target_outcome.value_counts(normalize=True)"
   ]
  },
  {
   "cell_type": "markdown",
   "id": "bc45c42f",
   "metadata": {},
   "source": [
    "#### How much of each outcome do cats and dogs represent?\n",
    "\n",
    "Dogs and cats represent $0.92$ of the data. Unsurprisingly then, they also represent $0.98$ of adoptions and $0.96$ of transfers."
   ]
  },
  {
   "cell_type": "code",
   "execution_count": 10,
   "id": "a284e4b2",
   "metadata": {},
   "outputs": [
    {
     "data": {
      "text/plain": [
       "Text(0.5, 0, 'Animal Outcome')"
      ]
     },
     "execution_count": 10,
     "metadata": {},
     "output_type": "execute_result"
    },
    {
     "data": {
      "image/png": "[encoded data removed]",
      "text/plain": [
       "<Figure size 1080x432 with 1 Axes>"
      ]
     },
     "metadata": {
      "needs_background": "light"
     },
     "output_type": "display_data"
    }
   ],
   "source": [
    "#make a boolean column\n",
    "train['is_dog_cat'] = train['animal_type'].isin(['Cat', 'Dog'])\n",
    "#plot the target outcome hued by is_dog_cat\n",
    "plt.figure(figsize=PLT_SIZE)\n",
    "sns.countplot(data=train, x='target_outcome', hue='is_dog_cat')\n",
    "#set strings\n",
    "plt.title('Outcome Filtered by Dog or Cat Status')\n",
    "plt.xlabel('Animal Outcome')"
   ]
  },
  {
   "cell_type": "code",
   "execution_count": 11,
   "id": "ac5612ce",
   "metadata": {},
   "outputs": [
    {
     "data": {
      "text/plain": [
       "target_outcome   is_dog_cat\n",
       "Adoption         True          0.982046\n",
       "                 False         0.017954\n",
       "Other            True          0.770077\n",
       "                 False         0.229923\n",
       "Return to Owner  True          0.993289\n",
       "                 False         0.006711\n",
       "Transfer         True          0.968734\n",
       "                 False         0.031266\n",
       "Name: is_dog_cat, dtype: float64"
      ]
     },
     "execution_count": 11,
     "metadata": {},
     "output_type": "execute_result"
    }
   ],
   "source": [
    "#same data but numeric\n",
    "train.groupby('target_outcome').is_dog_cat.value_counts(normalize=True)"
   ]
  },
  {
   "cell_type": "code",
   "execution_count": 12,
   "id": "ca40fc6f",
   "metadata": {},
   "outputs": [
    {
     "data": {
      "text/plain": [
       "0.9290841273821464"
      ]
     },
     "execution_count": 12,
     "metadata": {},
     "output_type": "execute_result"
    }
   ],
   "source": [
    "#how much of the data is represented by cats and dogs\n",
    "train.is_dog_cat.mean()"
   ]
  },
  {
   "cell_type": "markdown",
   "id": "a5a8c579",
   "metadata": {},
   "source": [
    "#### What is the rate of adoption among cats and dogs?\n",
    "\n",
    "Adoption rate among only cats and dogs is $0.46$, and the transfer rate is $0.35$. "
   ]
  },
  {
   "cell_type": "code",
   "execution_count": 13,
   "id": "5a24c0cb",
   "metadata": {},
   "outputs": [
    {
     "data": {
      "text/plain": [
       "Text(0.5, 0, 'Animal Outcome')"
      ]
     },
     "execution_count": 13,
     "metadata": {},
     "output_type": "execute_result"
    },
    {
     "data": {
      "image/png": "[encoded data removed]",
      "text/plain": [
       "<Figure size 1080x432 with 1 Axes>"
      ]
     },
     "metadata": {
      "needs_background": "light"
     },
     "output_type": "display_data"
    }
   ],
   "source": [
    "#plot the target outcome hued by is_dog_cat\n",
    "plt.figure(figsize=PLT_SIZE)\n",
    "sns.countplot(data=train[train.is_dog_cat], x='target_outcome')\n",
    "#set strings\n",
    "plt.title('Outcomes Among Cats and Dogs')\n",
    "plt.xlabel('Animal Outcome')"
   ]
  },
  {
   "cell_type": "code",
   "execution_count": 14,
   "id": "d0b5fbc9",
   "metadata": {
    "scrolled": true
   },
   "outputs": [
    {
     "data": {
      "text/plain": [
       "Adoption           0.459491\n",
       "Transfer           0.345462\n",
       "Other              0.190054\n",
       "Return to Owner    0.004993\n",
       "Name: target_outcome, dtype: float64"
      ]
     },
     "execution_count": 14,
     "metadata": {},
     "output_type": "execute_result"
    }
   ],
   "source": [
    "#same data but numeric\n",
    "train[train.is_dog_cat].target_outcome.value_counts(normalize=True)"
   ]
  },
  {
   "cell_type": "markdown",
   "id": "53a882c3",
   "metadata": {},
   "source": [
    "#### Hypothesis Testing\n",
    "\n",
    "Perform the following $χ^2$ tests:\n",
    "\n",
    "1. Are cats and dogs more likely to get adopted?\n",
    "\n",
    "$H_0$ : Animal type of cat or dog is independent of outcome 'Adoption'\n",
    "\n",
    "$H_a$ : Animal type of cat or dog is not independent of outcome 'Adoption'"
   ]
  },
  {
   "cell_type": "code",
   "execution_count": 15,
   "id": "19e85420",
   "metadata": {},
   "outputs": [
    {
     "data": {
      "text/html": [
       "<div>\n",
       "<style scoped>\n",
       "    .dataframe tbody tr th:only-of-type {\n",
       "        vertical-align: middle;\n",
       "    }\n",
       "\n",
       "    .dataframe tbody tr th {\n",
       "        vertical-align: top;\n",
       "    }\n",
       "\n",
       "    .dataframe thead th {\n",
       "        text-align: right;\n",
       "    }\n",
       "</style>\n",
       "<table border=\"1\" class=\"dataframe\">\n",
       "  <thead>\n",
       "    <tr style=\"text-align: right;\">\n",
       "      <th></th>\n",
       "      <th>χ^2</th>\n",
       "      <th>p</th>\n",
       "      <th>reject_null</th>\n",
       "    </tr>\n",
       "  </thead>\n",
       "  <tbody>\n",
       "    <tr>\n",
       "      <th>0</th>\n",
       "      <td>7318.418053</td>\n",
       "      <td>0.0</td>\n",
       "      <td>True</td>\n",
       "    </tr>\n",
       "  </tbody>\n",
       "</table>\n",
       "</div>"
      ],
      "text/plain": [
       "           χ^2    p  reject_null\n",
       "0  7318.418053  0.0         True"
      ]
     },
     "execution_count": 15,
     "metadata": {},
     "output_type": "execute_result"
    }
   ],
   "source": [
    "explore.chi_square_test(train['is_dog_cat'], train['target_outcome'])"
   ]
  },
  {
   "cell_type": "markdown",
   "id": "c300e5d7",
   "metadata": {},
   "source": [
    "The null hypothesis is likly wrong."
   ]
  },
  {
   "cell_type": "markdown",
   "id": "b9120da2",
   "metadata": {},
   "source": [
    "<a href='#contents'>Back to Contents</a>\n",
    "\n",
    "### What are the animals who get adopted like at intake? <a name='intake_condition'></a>\n",
    "\n",
    "#### Key Takeaways\n",
    "- $0.72$ of intake types are strays, that majority of which are cats and dogs\n",
    "- Most ($0.84$) are in normal condition.\n",
    "\n",
    "#### What are the intake types of animals in general?\n",
    "\n",
    "The majority of animals at intake are strays with a proportion of strays at $0.72$, followed by owner surrender."
   ]
  },
  {
   "cell_type": "code",
   "execution_count": 16,
   "id": "31691552",
   "metadata": {},
   "outputs": [
    {
     "data": {
      "text/plain": [
       "Text(0.5, 0, 'Intake type')"
      ]
     },
     "execution_count": 16,
     "metadata": {},
     "output_type": "execute_result"
    },
    {
     "data": {
      "image/png": "[encoded data removed]",
      "text/plain": [
       "<Figure size 1080x432 with 1 Axes>"
      ]
     },
     "metadata": {
      "needs_background": "light"
     },
     "output_type": "display_data"
    }
   ],
   "source": [
    "#make plot\n",
    "plt.figure(figsize=PLT_SIZE)\n",
    "sns.countplot(data=train, x='intake_type', hue='is_dog_cat')\n",
    "#set strings\n",
    "plt.title('Animals by Intake Type, Hued by Cat or Dog')\n",
    "plt.xlabel('Intake type')"
   ]
  },
  {
   "cell_type": "code",
   "execution_count": 17,
   "id": "036b8574",
   "metadata": {},
   "outputs": [
    {
     "data": {
      "text/plain": [
       "Stray                 0.723624\n",
       "Owner Surrender       0.167173\n",
       "Public Assist         0.052987\n",
       "Wildlife              0.047815\n",
       "Abandoned             0.006394\n",
       "Euthanasia Request    0.002006\n",
       "Name: intake_type, dtype: float64"
      ]
     },
     "execution_count": 17,
     "metadata": {},
     "output_type": "execute_result"
    }
   ],
   "source": [
    "train['intake_type'].value_counts(normalize=True)"
   ]
  },
  {
   "cell_type": "markdown",
   "id": "605b3c98",
   "metadata": {},
   "source": [
    "#### What is the intake condition of the animals?\n",
    "\n",
    "The majority of animals ($0.84$) are in normal condition."
   ]
  },
  {
   "cell_type": "code",
   "execution_count": 18,
   "id": "b98a6fb0",
   "metadata": {},
   "outputs": [
    {
     "data": {
      "text/plain": [
       "<matplotlib.legend.Legend at 0x7fe53ebc9bb0>"
      ]
     },
     "execution_count": 18,
     "metadata": {},
     "output_type": "execute_result"
    },
    {
     "data": {
      "image/png": "[encoded data removed]",
      "text/plain": [
       "<Figure size 1080x432 with 1 Axes>"
      ]
     },
     "metadata": {
      "needs_background": "light"
     },
     "output_type": "display_data"
    }
   ],
   "source": [
    "#make plot\n",
    "plt.figure(figsize=PLT_SIZE)\n",
    "sns.countplot(data=train, x='intake_condition', hue='is_dog_cat')\n",
    "#set strings\n",
    "plt.title('Animals by Intake Condition')\n",
    "plt.xlabel('Intake type')\n",
    "plt.legend(loc='upper right')"
   ]
  },
  {
   "cell_type": "code",
   "execution_count": 19,
   "id": "135926d7",
   "metadata": {},
   "outputs": [
    {
     "data": {
      "text/plain": [
       "Normal      0.842073\n",
       "Injured     0.062155\n",
       "Sick        0.050260\n",
       "Nursing     0.033444\n",
       "Aged        0.003432\n",
       "Neonatal    0.003369\n",
       "Other       0.002069\n",
       "Medical     0.001081\n",
       "Feral       0.001034\n",
       "Pregnant    0.000784\n",
       "Behavior    0.000298\n",
       "Name: intake_condition, dtype: float64"
      ]
     },
     "execution_count": 19,
     "metadata": {},
     "output_type": "execute_result"
    }
   ],
   "source": [
    "#same information but numeric\n",
    "train.intake_condition.value_counts(normalize=True)"
   ]
  },
  {
   "cell_type": "markdown",
   "id": "6ec73577",
   "metadata": {},
   "source": [
    "<a href='#contents'>Back to Contents</a>\n",
    "\n",
    "### Are some intakes types leading to certain outcomes?\n",
    "\n",
    "Strays are owner surrenders are most likely to have transfer or adoption outcome.  $0.44$ of adoptions are of strays, and $0.36$ are transferred. Owner surrenders are also likely to be adopted or transferred, at rates of $0.58$ and $0.32$ respectively."
   ]
  },
  {
   "cell_type": "code",
   "execution_count": 20,
   "id": "823b2ab9",
   "metadata": {},
   "outputs": [
    {
     "data": {
      "text/plain": [
       "Text(0.5, 0, 'Intake Type')"
      ]
     },
     "execution_count": 20,
     "metadata": {},
     "output_type": "execute_result"
    },
    {
     "data": {
      "image/png": "[encoded data removed]",
      "text/plain": [
       "<Figure size 1080x432 with 1 Axes>"
      ]
     },
     "metadata": {
      "needs_background": "light"
     },
     "output_type": "display_data"
    }
   ],
   "source": [
    "#make plot\n",
    "plt.figure(figsize=PLT_SIZE)\n",
    "sns.countplot(data=train, x='intake_type', hue='target_outcome')\n",
    "#set strings\n",
    "plt.title('Outcome By Animal Intake Type')\n",
    "plt.xlabel('Intake Type')"
   ]
  },
  {
   "cell_type": "code",
   "execution_count": 21,
   "id": "5639f326",
   "metadata": {},
   "outputs": [
    {
     "data": {
      "text/plain": [
       "intake_type         target_outcome \n",
       "Abandoned           Adoption           0.551471\n",
       "                    Transfer           0.328431\n",
       "                    Other              0.102941\n",
       "                    Return to Owner    0.017157\n",
       "Euthanasia Request  Other              0.835938\n",
       "                    Transfer           0.125000\n",
       "                    Adoption           0.039062\n",
       "Owner Surrender     Adoption           0.585919\n",
       "                    Transfer           0.326427\n",
       "                    Other              0.079779\n",
       "                    Return to Owner    0.007875\n",
       "Public Assist       Other              0.690920\n",
       "                    Transfer           0.155871\n",
       "                    Adoption           0.147294\n",
       "                    Return to Owner    0.005915\n",
       "Stray               Adoption           0.449505\n",
       "                    Transfer           0.366816\n",
       "                    Other              0.179629\n",
       "                    Return to Owner    0.004050\n",
       "Wildlife            Other              0.983612\n",
       "                    Transfer           0.014749\n",
       "                    Adoption           0.001639\n",
       "Name: target_outcome, dtype: float64"
      ]
     },
     "execution_count": 21,
     "metadata": {},
     "output_type": "execute_result"
    }
   ],
   "source": [
    "#same data but numeric\n",
    "train.groupby('intake_type').target_outcome.value_counts(normalize=True)"
   ]
  },
  {
   "cell_type": "markdown",
   "id": "f5d35608",
   "metadata": {},
   "source": [
    "#### Hypothesis testing\n",
    "\n",
    "Perform the following $χ^2$ tests:\n",
    "\n",
    "1. Are strays more likely to be adopted?\n",
    "\n",
    "$H_0$ : Intake as a stray is independent of adoption.\n",
    "\n",
    "$H_a$ : Intake as a stray is not independent of adoption."
   ]
  },
  {
   "cell_type": "code",
   "execution_count": 22,
   "id": "23dd3567",
   "metadata": {},
   "outputs": [
    {
     "data": {
      "text/html": [
       "<div>\n",
       "<style scoped>\n",
       "    .dataframe tbody tr th:only-of-type {\n",
       "        vertical-align: middle;\n",
       "    }\n",
       "\n",
       "    .dataframe tbody tr th {\n",
       "        vertical-align: top;\n",
       "    }\n",
       "\n",
       "    .dataframe thead th {\n",
       "        text-align: right;\n",
       "    }\n",
       "</style>\n",
       "<table border=\"1\" class=\"dataframe\">\n",
       "  <thead>\n",
       "    <tr style=\"text-align: right;\">\n",
       "      <th></th>\n",
       "      <th>χ^2</th>\n",
       "      <th>p</th>\n",
       "      <th>reject_null</th>\n",
       "    </tr>\n",
       "  </thead>\n",
       "  <tbody>\n",
       "    <tr>\n",
       "      <th>0</th>\n",
       "      <td>148.592018</td>\n",
       "      <td>3.521442e-34</td>\n",
       "      <td>True</td>\n",
       "    </tr>\n",
       "  </tbody>\n",
       "</table>\n",
       "</div>"
      ],
      "text/plain": [
       "          χ^2             p  reject_null\n",
       "0  148.592018  3.521442e-34         True"
      ]
     },
     "execution_count": 22,
     "metadata": {},
     "output_type": "execute_result"
    }
   ],
   "source": [
    "explore.chi_square_test(train['intake_type']=='Stray', train['target_outcome']=='Adoption')"
   ]
  },
  {
   "cell_type": "markdown",
   "id": "926629a0",
   "metadata": {},
   "source": [
    "The null hypothesis is likely false.\n",
    "\n",
    "2. Are Owner surrenders more likely to be adopted?\n",
    "\n",
    "$H_0$ : Intake as a owner surrender is independent of adoption.\n",
    "\n",
    "$H_a$ : Intake as a owner surrender is not independent of adoption."
   ]
  },
  {
   "cell_type": "code",
   "execution_count": 23,
   "id": "1f97c55b",
   "metadata": {},
   "outputs": [
    {
     "data": {
      "text/html": [
       "<div>\n",
       "<style scoped>\n",
       "    .dataframe tbody tr th:only-of-type {\n",
       "        vertical-align: middle;\n",
       "    }\n",
       "\n",
       "    .dataframe tbody tr th {\n",
       "        vertical-align: top;\n",
       "    }\n",
       "\n",
       "    .dataframe thead th {\n",
       "        text-align: right;\n",
       "    }\n",
       "</style>\n",
       "<table border=\"1\" class=\"dataframe\">\n",
       "  <thead>\n",
       "    <tr style=\"text-align: right;\">\n",
       "      <th></th>\n",
       "      <th>χ^2</th>\n",
       "      <th>p</th>\n",
       "      <th>reject_null</th>\n",
       "    </tr>\n",
       "  </thead>\n",
       "  <tbody>\n",
       "    <tr>\n",
       "      <th>0</th>\n",
       "      <td>1190.972053</td>\n",
       "      <td>5.588949e-261</td>\n",
       "      <td>True</td>\n",
       "    </tr>\n",
       "  </tbody>\n",
       "</table>\n",
       "</div>"
      ],
      "text/plain": [
       "           χ^2              p  reject_null\n",
       "0  1190.972053  5.588949e-261         True"
      ]
     },
     "execution_count": 23,
     "metadata": {},
     "output_type": "execute_result"
    }
   ],
   "source": [
    "explore.chi_square_test(train['intake_type']=='Owner Surrender', train['target_outcome']=='Adoption')"
   ]
  },
  {
   "cell_type": "markdown",
   "id": "0112db84",
   "metadata": {},
   "source": [
    "The null hypothesis is likely to be false.\n",
    "\n",
    "<a href='#contents'>Back to Contents</a>\n",
    "\n",
    "### Among cats and dogs, are they likely to be adopted at a certain age? <a name='age_adoption'></a>\n",
    "\n",
    "Dogs and cats are adopted at a younger age than other outcomes.  The median animal is adopted at 183 days old; moreover, $0.60$ of animals are adopted under a year old.  Cats and dogs that are adopted are also younger at intake; the median intake age of animals that are adopted is 152 days.  It is worth noting that there are some outliers that drive the mean age in days to $>500$ days.\n",
    "\n",
    "#### Are cats and dogs adopted at a certain age?"
   ]
  },
  {
   "cell_type": "code",
   "execution_count": 24,
   "id": "e5f0eb52",
   "metadata": {},
   "outputs": [
    {
     "data": {
      "text/plain": [
       "Text(0.5, 0, 'Intake Type')"
      ]
     },
     "execution_count": 24,
     "metadata": {},
     "output_type": "execute_result"
    },
    {
     "data": {
      "image/png": "[encoded data removed]",
      "text/plain": [
       "<Figure size 1080x432 with 1 Axes>"
      ]
     },
     "metadata": {
      "needs_background": "light"
     },
     "output_type": "display_data"
    }
   ],
   "source": [
    "#make plot\n",
    "plt.figure(figsize=PLT_SIZE)\n",
    "sns.boxplot(data=train[train['is_dog_cat']], x='target_outcome', y='age_at_outcome')\n",
    "#set strings\n",
    "plt.title('Outcome Among Dogs and Cats by Age')\n",
    "plt.ylabel('Age in days at outcome')\n",
    "plt.xlabel('Intake Type')"
   ]
  },
  {
   "cell_type": "code",
   "execution_count": 25,
   "id": "26db7428",
   "metadata": {},
   "outputs": [
    {
     "data": {
      "text/html": [
       "<div>\n",
       "<style scoped>\n",
       "    .dataframe tbody tr th:only-of-type {\n",
       "        vertical-align: middle;\n",
       "    }\n",
       "\n",
       "    .dataframe tbody tr th {\n",
       "        vertical-align: top;\n",
       "    }\n",
       "\n",
       "    .dataframe thead th {\n",
       "        text-align: right;\n",
       "    }\n",
       "</style>\n",
       "<table border=\"1\" class=\"dataframe\">\n",
       "  <thead>\n",
       "    <tr style=\"text-align: right;\">\n",
       "      <th></th>\n",
       "      <th>count</th>\n",
       "      <th>mean</th>\n",
       "      <th>std</th>\n",
       "      <th>min</th>\n",
       "      <th>25%</th>\n",
       "      <th>50%</th>\n",
       "      <th>75%</th>\n",
       "      <th>max</th>\n",
       "    </tr>\n",
       "    <tr>\n",
       "      <th>target_outcome</th>\n",
       "      <th></th>\n",
       "      <th></th>\n",
       "      <th></th>\n",
       "      <th></th>\n",
       "      <th></th>\n",
       "      <th></th>\n",
       "      <th></th>\n",
       "      <th></th>\n",
       "    </tr>\n",
       "  </thead>\n",
       "  <tbody>\n",
       "    <tr>\n",
       "      <th>Adoption</th>\n",
       "      <td>27240.0</td>\n",
       "      <td>526.742841</td>\n",
       "      <td>836.042481</td>\n",
       "      <td>0.0</td>\n",
       "      <td>61.0</td>\n",
       "      <td>183.0</td>\n",
       "      <td>730.0</td>\n",
       "      <td>6574.0</td>\n",
       "    </tr>\n",
       "    <tr>\n",
       "      <th>Other</th>\n",
       "      <td>11267.0</td>\n",
       "      <td>1432.057069</td>\n",
       "      <td>1463.262961</td>\n",
       "      <td>0.0</td>\n",
       "      <td>365.0</td>\n",
       "      <td>730.0</td>\n",
       "      <td>2192.0</td>\n",
       "      <td>8766.0</td>\n",
       "    </tr>\n",
       "    <tr>\n",
       "      <th>Return to Owner</th>\n",
       "      <td>296.0</td>\n",
       "      <td>1292.567568</td>\n",
       "      <td>1279.401105</td>\n",
       "      <td>30.0</td>\n",
       "      <td>365.0</td>\n",
       "      <td>730.0</td>\n",
       "      <td>1826.0</td>\n",
       "      <td>6209.0</td>\n",
       "    </tr>\n",
       "    <tr>\n",
       "      <th>Transfer</th>\n",
       "      <td>20480.0</td>\n",
       "      <td>559.130664</td>\n",
       "      <td>911.214748</td>\n",
       "      <td>0.0</td>\n",
       "      <td>30.0</td>\n",
       "      <td>183.0</td>\n",
       "      <td>730.0</td>\n",
       "      <td>6574.0</td>\n",
       "    </tr>\n",
       "  </tbody>\n",
       "</table>\n",
       "</div>"
      ],
      "text/plain": [
       "                   count         mean          std   min    25%    50%  \\\n",
       "target_outcome                                                           \n",
       "Adoption         27240.0   526.742841   836.042481   0.0   61.0  183.0   \n",
       "Other            11267.0  1432.057069  1463.262961   0.0  365.0  730.0   \n",
       "Return to Owner    296.0  1292.567568  1279.401105  30.0  365.0  730.0   \n",
       "Transfer         20480.0   559.130664   911.214748   0.0   30.0  183.0   \n",
       "\n",
       "                    75%     max  \n",
       "target_outcome                   \n",
       "Adoption          730.0  6574.0  \n",
       "Other            2192.0  8766.0  \n",
       "Return to Owner  1826.0  6209.0  \n",
       "Transfer          730.0  6574.0  "
      ]
     },
     "execution_count": 25,
     "metadata": {},
     "output_type": "execute_result"
    }
   ],
   "source": [
    "#same data numerically\n",
    "train[train['is_dog_cat']].groupby('target_outcome').age_at_outcome.describe()"
   ]
  },
  {
   "cell_type": "code",
   "execution_count": 26,
   "id": "710e7c00",
   "metadata": {
    "scrolled": true
   },
   "outputs": [
    {
     "data": {
      "text/plain": [
       "target_outcome\n",
       "Adoption            365.0\n",
       "Other              1096.0\n",
       "Return to Owner    1096.0\n",
       "Transfer            365.0\n",
       "Name: age_at_outcome, dtype: float64"
      ]
     },
     "execution_count": 26,
     "metadata": {},
     "output_type": "execute_result"
    }
   ],
   "source": [
    "#calculate the quantile at 0.6\n",
    "train[train['is_dog_cat']].groupby('target_outcome').age_at_outcome.quantile(0.6)"
   ]
  },
  {
   "cell_type": "markdown",
   "id": "d0658d82",
   "metadata": {},
   "source": [
    "#### Are cats and dogs intaked at a certain age?"
   ]
  },
  {
   "cell_type": "code",
   "execution_count": 27,
   "id": "83b087ea",
   "metadata": {
    "scrolled": false
   },
   "outputs": [
    {
     "data": {
      "text/plain": [
       "Text(0.5, 0, 'Intake Type')"
      ]
     },
     "execution_count": 27,
     "metadata": {},
     "output_type": "execute_result"
    },
    {
     "data": {
      "image/png": "[encoded data removed]",
      "text/plain": [
       "<Figure size 1080x432 with 1 Axes>"
      ]
     },
     "metadata": {
      "needs_background": "light"
     },
     "output_type": "display_data"
    }
   ],
   "source": [
    "#make plot\n",
    "plt.figure(figsize=PLT_SIZE)\n",
    "sns.boxplot(data=train[train['is_dog_cat']], x='target_outcome', y='age_at_intake')\n",
    "#set strings\n",
    "plt.title('Outcome Among Dogs and Cats by Age')\n",
    "plt.ylabel('Age in days at intake')\n",
    "plt.xlabel('Intake Type')"
   ]
  },
  {
   "cell_type": "code",
   "execution_count": 28,
   "id": "166c0cbf",
   "metadata": {},
   "outputs": [
    {
     "data": {
      "text/html": [
       "<div>\n",
       "<style scoped>\n",
       "    .dataframe tbody tr th:only-of-type {\n",
       "        vertical-align: middle;\n",
       "    }\n",
       "\n",
       "    .dataframe tbody tr th {\n",
       "        vertical-align: top;\n",
       "    }\n",
       "\n",
       "    .dataframe thead th {\n",
       "        text-align: right;\n",
       "    }\n",
       "</style>\n",
       "<table border=\"1\" class=\"dataframe\">\n",
       "  <thead>\n",
       "    <tr style=\"text-align: right;\">\n",
       "      <th></th>\n",
       "      <th>count</th>\n",
       "      <th>mean</th>\n",
       "      <th>std</th>\n",
       "      <th>min</th>\n",
       "      <th>25%</th>\n",
       "      <th>50%</th>\n",
       "      <th>75%</th>\n",
       "      <th>max</th>\n",
       "    </tr>\n",
       "    <tr>\n",
       "      <th>target_outcome</th>\n",
       "      <th></th>\n",
       "      <th></th>\n",
       "      <th></th>\n",
       "      <th></th>\n",
       "      <th></th>\n",
       "      <th></th>\n",
       "      <th></th>\n",
       "      <th></th>\n",
       "    </tr>\n",
       "  </thead>\n",
       "  <tbody>\n",
       "    <tr>\n",
       "      <th>Adoption</th>\n",
       "      <td>27240.0</td>\n",
       "      <td>501.654809</td>\n",
       "      <td>830.600644</td>\n",
       "      <td>0.0</td>\n",
       "      <td>30.0</td>\n",
       "      <td>152.0</td>\n",
       "      <td>730.0</td>\n",
       "      <td>6574.0</td>\n",
       "    </tr>\n",
       "    <tr>\n",
       "      <th>Other</th>\n",
       "      <td>11267.0</td>\n",
       "      <td>1423.723440</td>\n",
       "      <td>1462.085247</td>\n",
       "      <td>0.0</td>\n",
       "      <td>365.0</td>\n",
       "      <td>730.0</td>\n",
       "      <td>2192.0</td>\n",
       "      <td>8766.0</td>\n",
       "    </tr>\n",
       "    <tr>\n",
       "      <th>Return to Owner</th>\n",
       "      <td>296.0</td>\n",
       "      <td>1252.550676</td>\n",
       "      <td>1246.695213</td>\n",
       "      <td>28.0</td>\n",
       "      <td>365.0</td>\n",
       "      <td>730.0</td>\n",
       "      <td>1826.0</td>\n",
       "      <td>5844.0</td>\n",
       "    </tr>\n",
       "    <tr>\n",
       "      <th>Transfer</th>\n",
       "      <td>20480.0</td>\n",
       "      <td>551.413232</td>\n",
       "      <td>906.718364</td>\n",
       "      <td>0.0</td>\n",
       "      <td>28.0</td>\n",
       "      <td>183.0</td>\n",
       "      <td>730.0</td>\n",
       "      <td>6574.0</td>\n",
       "    </tr>\n",
       "  </tbody>\n",
       "</table>\n",
       "</div>"
      ],
      "text/plain": [
       "                   count         mean          std   min    25%    50%  \\\n",
       "target_outcome                                                           \n",
       "Adoption         27240.0   501.654809   830.600644   0.0   30.0  152.0   \n",
       "Other            11267.0  1423.723440  1462.085247   0.0  365.0  730.0   \n",
       "Return to Owner    296.0  1252.550676  1246.695213  28.0  365.0  730.0   \n",
       "Transfer         20480.0   551.413232   906.718364   0.0   28.0  183.0   \n",
       "\n",
       "                    75%     max  \n",
       "target_outcome                   \n",
       "Adoption          730.0  6574.0  \n",
       "Other            2192.0  8766.0  \n",
       "Return to Owner  1826.0  5844.0  \n",
       "Transfer          730.0  6574.0  "
      ]
     },
     "execution_count": 28,
     "metadata": {},
     "output_type": "execute_result"
    }
   ],
   "source": [
    "#same data numerically\n",
    "train[train['is_dog_cat']].groupby('target_outcome').age_at_intake.describe()"
   ]
  },
  {
   "cell_type": "markdown",
   "id": "a6ea887f",
   "metadata": {},
   "source": [
    "#### Hypothesis Testing\n",
    "\n",
    "Perform a one sample t-test on the following questions:\n",
    "\n",
    "1. Do adoptions among cats and dogs happen at a younger age than non-adoptions?\n",
    "\n",
    "$H_0$ : The mean adoption age of a dog or cat is equal or higher than the mean age of a non-adopted dog or cat.\n",
    "\n",
    "$H_a$ : The mean adoption age of a dog or cat is lesser than the mean age of a non-adopted dog or cat."
   ]
  },
  {
   "cell_type": "code",
   "execution_count": 29,
   "id": "ed0477ff",
   "metadata": {},
   "outputs": [
    {
     "data": {
      "text/html": [
       "<div>\n",
       "<style scoped>\n",
       "    .dataframe tbody tr th:only-of-type {\n",
       "        vertical-align: middle;\n",
       "    }\n",
       "\n",
       "    .dataframe tbody tr th {\n",
       "        vertical-align: top;\n",
       "    }\n",
       "\n",
       "    .dataframe thead th {\n",
       "        text-align: right;\n",
       "    }\n",
       "</style>\n",
       "<table border=\"1\" class=\"dataframe\">\n",
       "  <thead>\n",
       "    <tr style=\"text-align: right;\">\n",
       "      <th></th>\n",
       "      <th>category_name</th>\n",
       "      <th>category_value</th>\n",
       "      <th>t-stat</th>\n",
       "      <th>p-value</th>\n",
       "      <th>reject_null</th>\n",
       "    </tr>\n",
       "  </thead>\n",
       "  <tbody>\n",
       "    <tr>\n",
       "      <th>0</th>\n",
       "      <td>target_outcome</td>\n",
       "      <td>Adoption</td>\n",
       "      <td>-68.325046</td>\n",
       "      <td>0.0</td>\n",
       "      <td>True</td>\n",
       "    </tr>\n",
       "  </tbody>\n",
       "</table>\n",
       "</div>"
      ],
      "text/plain": [
       "    category_name category_value     t-stat  p-value  reject_null\n",
       "0  target_outcome       Adoption -68.325046      0.0         True"
      ]
     },
     "execution_count": 29,
     "metadata": {},
     "output_type": "execute_result"
    }
   ],
   "source": [
    "explore.t_test_lesser(train[train['is_dog_cat']], column_cat='target_outcome', subcat_val='Adoption', column_cont='age_at_outcome')"
   ]
  },
  {
   "cell_type": "markdown",
   "id": "26395beb",
   "metadata": {},
   "source": [
    "The null hypothesis is likely false.\n",
    "\n",
    "2. Are cats and dogs intakes ending in adoption at a younger age than non-adoption outcomes?\n",
    "\n",
    "$H_0$ : The mean age at intake among adopted cats and dogs is equal to or higher than non-adopted dogs or cats.\n",
    "\n",
    "$H_a$ : The mean age at intake among adopted cats and dogs is lesser than non-adopted dogs or cats."
   ]
  },
  {
   "cell_type": "code",
   "execution_count": 30,
   "id": "8a9d4ce6",
   "metadata": {},
   "outputs": [
    {
     "data": {
      "text/html": [
       "<div>\n",
       "<style scoped>\n",
       "    .dataframe tbody tr th:only-of-type {\n",
       "        vertical-align: middle;\n",
       "    }\n",
       "\n",
       "    .dataframe tbody tr th {\n",
       "        vertical-align: top;\n",
       "    }\n",
       "\n",
       "    .dataframe thead th {\n",
       "        text-align: right;\n",
       "    }\n",
       "</style>\n",
       "<table border=\"1\" class=\"dataframe\">\n",
       "  <thead>\n",
       "    <tr style=\"text-align: right;\">\n",
       "      <th></th>\n",
       "      <th>category_name</th>\n",
       "      <th>category_value</th>\n",
       "      <th>t-stat</th>\n",
       "      <th>p-value</th>\n",
       "      <th>reject_null</th>\n",
       "    </tr>\n",
       "  </thead>\n",
       "  <tbody>\n",
       "    <tr>\n",
       "      <th>0</th>\n",
       "      <td>target_outcome</td>\n",
       "      <td>Adoption</td>\n",
       "      <td>-72.121994</td>\n",
       "      <td>0.0</td>\n",
       "      <td>True</td>\n",
       "    </tr>\n",
       "  </tbody>\n",
       "</table>\n",
       "</div>"
      ],
      "text/plain": [
       "    category_name category_value     t-stat  p-value  reject_null\n",
       "0  target_outcome       Adoption -72.121994      0.0         True"
      ]
     },
     "execution_count": 30,
     "metadata": {},
     "output_type": "execute_result"
    }
   ],
   "source": [
    "explore.t_test_lesser(train[train['is_dog_cat']], column_cat='target_outcome', subcat_val='Adoption', column_cont='age_at_intake')"
   ]
  },
  {
   "cell_type": "markdown",
   "id": "a5a5f142",
   "metadata": {},
   "source": [
    "The null hypothesis is liekly false.\n",
    "\n",
    "<a href='#contents'>Back to contents</a>\n",
    "\n",
    "### What is the relationship between date of intake and adoption status? <a name='date_intake'></a>\n",
    "\n",
    "Intakes are higher in May and June and lower in December to February.  Adoption peak just after the intakes peak; but adoption also remain more constant in the winter.  These peaks are driven by cat population, and it also drives adoption rates among cats which increase about a month after cat intakes peak.  In contrast, dog intakes and adoptions remain relatively constant throughout the year.\n",
    "\n",
    "#### Are there certain months with higher intake rates?\n",
    "\n",
    "Intakes peak in May and June."
   ]
  },
  {
   "cell_type": "code",
   "execution_count": 31,
   "id": "04550a5f",
   "metadata": {},
   "outputs": [
    {
     "data": {
      "text/plain": [
       "Text(0.5, 0, 'Intake Month')"
      ]
     },
     "execution_count": 31,
     "metadata": {},
     "output_type": "execute_result"
    },
    {
     "data": {
      "image/png": "[encoded data removed]",
      "text/plain": [
       "<Figure size 1080x432 with 1 Axes>"
      ]
     },
     "metadata": {
      "needs_background": "light"
     },
     "output_type": "display_data"
    }
   ],
   "source": [
    "#make plot\n",
    "plt.figure(figsize=PLT_SIZE)\n",
    "sns.countplot(data=train, x=train.intake_date.dt.month)\n",
    "#set strings\n",
    "plt.title('Histogram of animals by intake month')\n",
    "plt.xlabel('Intake Month')"
   ]
  },
  {
   "cell_type": "markdown",
   "id": "a2b6e6b5",
   "metadata": {},
   "source": [
    "#### Is there a particular animal type that is driving intakes during peak months?\n",
    "\n",
    "Cats appear to be driving the peak intake months; whereas dogs remain relatively constant throughout the year."
   ]
  },
  {
   "cell_type": "code",
   "execution_count": 32,
   "id": "cbb2d270",
   "metadata": {},
   "outputs": [
    {
     "data": {
      "text/plain": [
       "Text(0.5, 0, 'Intake Month')"
      ]
     },
     "execution_count": 32,
     "metadata": {},
     "output_type": "execute_result"
    },
    {
     "data": {
      "image/png": "[encoded data removed]",
      "text/plain": [
       "<Figure size 1080x432 with 1 Axes>"
      ]
     },
     "metadata": {
      "needs_background": "light"
     },
     "output_type": "display_data"
    }
   ],
   "source": [
    "#make plot\n",
    "plt.figure(figsize=PLT_SIZE)\n",
    "sns.countplot(data=train, x=train.intake_date.dt.month, hue=train.animal_type)\n",
    "#set strings\n",
    "plt.title('Histogram of animals by intake month')\n",
    "plt.xlabel('Intake Month')"
   ]
  },
  {
   "cell_type": "markdown",
   "id": "21ae57a0",
   "metadata": {},
   "source": [
    "#### Are adoption higher in some months?\n",
    "\n",
    "Adoption peak just after intake peak.  Again, this is driven largely by cats, as dog adoptions remain relatively constant throughout the year."
   ]
  },
  {
   "cell_type": "code",
   "execution_count": 33,
   "id": "f8c3d03f",
   "metadata": {},
   "outputs": [
    {
     "data": {
      "text/plain": [
       "Text(0.5, 0, 'Outcome Month')"
      ]
     },
     "execution_count": 33,
     "metadata": {},
     "output_type": "execute_result"
    },
    {
     "data": {
      "image/png": "[encoded data removed]",
      "text/plain": [
       "<Figure size 1080x432 with 1 Axes>"
      ]
     },
     "metadata": {
      "needs_background": "light"
     },
     "output_type": "display_data"
    }
   ],
   "source": [
    "#make plot\n",
    "plt.figure(figsize=PLT_SIZE)\n",
    "sns.countplot(data=train, x=train.outcome_date.dt.month, hue='target_outcome')\n",
    "#set strings\n",
    "plt.title('Histogram of animals by outcome month and outcome ')\n",
    "plt.xlabel('Outcome Month')"
   ]
  },
  {
   "cell_type": "code",
   "execution_count": 34,
   "id": "be5701d2",
   "metadata": {},
   "outputs": [
    {
     "data": {
      "text/plain": [
       "Text(0.5, 0, 'Outcome Month')"
      ]
     },
     "execution_count": 34,
     "metadata": {},
     "output_type": "execute_result"
    },
    {
     "data": {
      "image/png": "[encoded data removed]",
      "text/plain": [
       "<Figure size 1080x432 with 1 Axes>"
      ]
     },
     "metadata": {
      "needs_background": "light"
     },
     "output_type": "display_data"
    }
   ],
   "source": [
    "#make plot\n",
    "plt.figure(figsize=PLT_SIZE)\n",
    "sns.countplot(data=train, x=train.outcome_date.dt.month, hue='animal_type')\n",
    "#set strings\n",
    "plt.title('Histogram of animals by outcome month and animal type')\n",
    "plt.xlabel('Outcome Month')"
   ]
  },
  {
   "cell_type": "markdown",
   "id": "f579cc9a",
   "metadata": {},
   "source": [
    "<a href='#contents'>Back to Contents</a>\n",
    "\n",
    "### Are certain breeds/colors of dogs and cats more popular as adoptions? <a name='breed_color'></a>\n",
    "\n",
    "In order to see if there is a mismatch between the animals at intake, look at the top ten colors/breeds that are adopted and the top ten at intake.  Because cat breeds are assumed to be less important among adopters, `color` is used as a proxy for testing breed (noting that the majority of cats are catagorized as \"Domestic X-hair\"). If the percentage at intake is similar to the percantage at adoption, it would indicate that there is a mismatch between the type of animals at intake, and the type of animals that perspective owners are looking to adopt.\n",
    "\n",
    "Happily, owners seem to not be looking for a particular breed/color to adopt. Among cats, the colors match up nearly perfectly; the one exception seems that black cats are slightly more difficult to adopt.  In terms of dog breed, Labrador Retrievers are easier to adopt; even though there are mainly Pit Bull Mixes that are more likely to be received at intake (there is a $-0.015$ difference between the numbers, every other column has a difference of less than $\\pm 0.01$).\n",
    "\n",
    "#### Is there a mismatch between the top ten cat colors at intake and top ten cat colors among adoptions?"
   ]
  },
  {
   "cell_type": "code",
   "execution_count": 35,
   "id": "c794c146",
   "metadata": {},
   "outputs": [
    {
     "data": {
      "text/html": [
       "<div>\n",
       "<style scoped>\n",
       "    .dataframe tbody tr th:only-of-type {\n",
       "        vertical-align: middle;\n",
       "    }\n",
       "\n",
       "    .dataframe tbody tr th {\n",
       "        vertical-align: top;\n",
       "    }\n",
       "\n",
       "    .dataframe thead th {\n",
       "        text-align: right;\n",
       "    }\n",
       "</style>\n",
       "<table border=\"1\" class=\"dataframe\">\n",
       "  <thead>\n",
       "    <tr style=\"text-align: right;\">\n",
       "      <th></th>\n",
       "      <th>Most common color at Adoption</th>\n",
       "      <th>Most common color at intake</th>\n",
       "      <th>difference</th>\n",
       "    </tr>\n",
       "  </thead>\n",
       "  <tbody>\n",
       "    <tr>\n",
       "      <th>Brown Tabby</th>\n",
       "      <td>0.153089</td>\n",
       "      <td>0.153296</td>\n",
       "      <td>-0.000207</td>\n",
       "    </tr>\n",
       "    <tr>\n",
       "      <th>Black</th>\n",
       "      <td>0.126829</td>\n",
       "      <td>0.130844</td>\n",
       "      <td>-0.004014</td>\n",
       "    </tr>\n",
       "    <tr>\n",
       "      <th>Black/White</th>\n",
       "      <td>0.091301</td>\n",
       "      <td>0.093533</td>\n",
       "      <td>-0.002233</td>\n",
       "    </tr>\n",
       "    <tr>\n",
       "      <th>Brown Tabby/White</th>\n",
       "      <td>0.077967</td>\n",
       "      <td>0.076279</td>\n",
       "      <td>0.001688</td>\n",
       "    </tr>\n",
       "    <tr>\n",
       "      <th>Orange Tabby</th>\n",
       "      <td>0.072683</td>\n",
       "      <td>0.075063</td>\n",
       "      <td>-0.002380</td>\n",
       "    </tr>\n",
       "    <tr>\n",
       "      <th>Tortie</th>\n",
       "      <td>0.048862</td>\n",
       "      <td>0.047117</td>\n",
       "      <td>0.001745</td>\n",
       "    </tr>\n",
       "    <tr>\n",
       "      <th>Calico</th>\n",
       "      <td>0.046423</td>\n",
       "      <td>0.043946</td>\n",
       "      <td>0.002476</td>\n",
       "    </tr>\n",
       "    <tr>\n",
       "      <th>Orange Tabby/White</th>\n",
       "      <td>0.041626</td>\n",
       "      <td>0.036499</td>\n",
       "      <td>0.005127</td>\n",
       "    </tr>\n",
       "    <tr>\n",
       "      <th>Blue Tabby</th>\n",
       "      <td>0.039187</td>\n",
       "      <td>0.038859</td>\n",
       "      <td>0.000328</td>\n",
       "    </tr>\n",
       "    <tr>\n",
       "      <th>Blue</th>\n",
       "      <td>0.037724</td>\n",
       "      <td>0.038564</td>\n",
       "      <td>-0.000840</td>\n",
       "    </tr>\n",
       "  </tbody>\n",
       "</table>\n",
       "</div>"
      ],
      "text/plain": [
       "                    Most common color at Adoption  \\\n",
       "Brown Tabby                              0.153089   \n",
       "Black                                    0.126829   \n",
       "Black/White                              0.091301   \n",
       "Brown Tabby/White                        0.077967   \n",
       "Orange Tabby                             0.072683   \n",
       "Tortie                                   0.048862   \n",
       "Calico                                   0.046423   \n",
       "Orange Tabby/White                       0.041626   \n",
       "Blue Tabby                               0.039187   \n",
       "Blue                                     0.037724   \n",
       "\n",
       "                    Most common color at intake  difference  \n",
       "Brown Tabby                            0.153296   -0.000207  \n",
       "Black                                  0.130844   -0.004014  \n",
       "Black/White                            0.093533   -0.002233  \n",
       "Brown Tabby/White                      0.076279    0.001688  \n",
       "Orange Tabby                           0.075063   -0.002380  \n",
       "Tortie                                 0.047117    0.001745  \n",
       "Calico                                 0.043946    0.002476  \n",
       "Orange Tabby/White                     0.036499    0.005127  \n",
       "Blue Tabby                             0.038859    0.000328  \n",
       "Blue                                   0.038564   -0.000840  "
      ]
     },
     "execution_count": 35,
     "metadata": {},
     "output_type": "execute_result"
    }
   ],
   "source": [
    "explore.get_top_ten_compare(train, 'Adoption', 'Cat', 'color').sort_values('Most common color at Adoption', ascending=False).iloc[0:10,:]"
   ]
  },
  {
   "cell_type": "markdown",
   "id": "12688ba6",
   "metadata": {},
   "source": [
    "#### Is there a mismatch between the top ten dog breeds at intake and top ten dog breeds among adoptions?"
   ]
  },
  {
   "cell_type": "code",
   "execution_count": 36,
   "id": "a87022a1",
   "metadata": {},
   "outputs": [
    {
     "data": {
      "text/html": [
       "<div>\n",
       "<style scoped>\n",
       "    .dataframe tbody tr th:only-of-type {\n",
       "        vertical-align: middle;\n",
       "    }\n",
       "\n",
       "    .dataframe tbody tr th {\n",
       "        vertical-align: top;\n",
       "    }\n",
       "\n",
       "    .dataframe thead th {\n",
       "        text-align: right;\n",
       "    }\n",
       "</style>\n",
       "<table border=\"1\" class=\"dataframe\">\n",
       "  <thead>\n",
       "    <tr style=\"text-align: right;\">\n",
       "      <th></th>\n",
       "      <th>Most common breed at Adoption</th>\n",
       "      <th>Most common breed at intake</th>\n",
       "      <th>difference</th>\n",
       "    </tr>\n",
       "  </thead>\n",
       "  <tbody>\n",
       "    <tr>\n",
       "      <th>Labrador Retriever Mix</th>\n",
       "      <td>0.104351</td>\n",
       "      <td>0.094966</td>\n",
       "      <td>0.009385</td>\n",
       "    </tr>\n",
       "    <tr>\n",
       "      <th>Chihuahua Shorthair Mix</th>\n",
       "      <td>0.091432</td>\n",
       "      <td>0.092167</td>\n",
       "      <td>-0.000735</td>\n",
       "    </tr>\n",
       "    <tr>\n",
       "      <th>Pit Bull Mix</th>\n",
       "      <td>0.081058</td>\n",
       "      <td>0.095899</td>\n",
       "      <td>-0.014841</td>\n",
       "    </tr>\n",
       "    <tr>\n",
       "      <th>German Shepherd Mix</th>\n",
       "      <td>0.048461</td>\n",
       "      <td>0.042818</td>\n",
       "      <td>0.005642</td>\n",
       "    </tr>\n",
       "    <tr>\n",
       "      <th>Australian Cattle Dog Mix</th>\n",
       "      <td>0.028447</td>\n",
       "      <td>0.022886</td>\n",
       "      <td>0.005561</td>\n",
       "    </tr>\n",
       "    <tr>\n",
       "      <th>Pit Bull</th>\n",
       "      <td>0.026573</td>\n",
       "      <td>0.026524</td>\n",
       "      <td>0.000049</td>\n",
       "    </tr>\n",
       "    <tr>\n",
       "      <th>Chihuahua Shorthair</th>\n",
       "      <td>0.020281</td>\n",
       "      <td>0.021176</td>\n",
       "      <td>-0.000895</td>\n",
       "    </tr>\n",
       "    <tr>\n",
       "      <th>Labrador Retriever</th>\n",
       "      <td>0.019344</td>\n",
       "      <td>0.018440</td>\n",
       "      <td>0.000904</td>\n",
       "    </tr>\n",
       "    <tr>\n",
       "      <th>German Shepherd</th>\n",
       "      <td>0.017470</td>\n",
       "      <td>0.015734</td>\n",
       "      <td>0.001736</td>\n",
       "    </tr>\n",
       "    <tr>\n",
       "      <th>Dachshund Mix</th>\n",
       "      <td>0.015663</td>\n",
       "      <td>0.015206</td>\n",
       "      <td>0.000457</td>\n",
       "    </tr>\n",
       "  </tbody>\n",
       "</table>\n",
       "</div>"
      ],
      "text/plain": [
       "                           Most common breed at Adoption  \\\n",
       "Labrador Retriever Mix                          0.104351   \n",
       "Chihuahua Shorthair Mix                         0.091432   \n",
       "Pit Bull Mix                                    0.081058   \n",
       "German Shepherd Mix                             0.048461   \n",
       "Australian Cattle Dog Mix                       0.028447   \n",
       "Pit Bull                                        0.026573   \n",
       "Chihuahua Shorthair                             0.020281   \n",
       "Labrador Retriever                              0.019344   \n",
       "German Shepherd                                 0.017470   \n",
       "Dachshund Mix                                   0.015663   \n",
       "\n",
       "                           Most common breed at intake  difference  \n",
       "Labrador Retriever Mix                        0.094966    0.009385  \n",
       "Chihuahua Shorthair Mix                       0.092167   -0.000735  \n",
       "Pit Bull Mix                                  0.095899   -0.014841  \n",
       "German Shepherd Mix                           0.042818    0.005642  \n",
       "Australian Cattle Dog Mix                     0.022886    0.005561  \n",
       "Pit Bull                                      0.026524    0.000049  \n",
       "Chihuahua Shorthair                           0.021176   -0.000895  \n",
       "Labrador Retriever                            0.018440    0.000904  \n",
       "German Shepherd                               0.015734    0.001736  \n",
       "Dachshund Mix                                 0.015206    0.000457  "
      ]
     },
     "execution_count": 36,
     "metadata": {},
     "output_type": "execute_result"
    }
   ],
   "source": [
    "explore.get_top_ten_compare(train, 'Adoption', 'Dog', 'breed').sort_values('Most common breed at Adoption', ascending=False).iloc[0:10,:]"
   ]
  },
  {
   "cell_type": "markdown",
   "id": "57721184",
   "metadata": {},
   "source": [
    "<a href='#contents'>Back to Contents</a>\n",
    "\n",
    "### What is the length of stay of animals? <a name='avg_stay'></a>\n",
    "\n",
    "Most animals that are not adopted stay only for the day.  The average animal stay ending in adoption is 32 days.  Cats tend to stay about two weeks longer than dogs."
   ]
  },
  {
   "cell_type": "code",
   "execution_count": 37,
   "id": "c719a665",
   "metadata": {},
   "outputs": [],
   "source": [
    "#make a column containing the information\n",
    "train['length_of_stay'] = train.outcome_date-train.intake_date"
   ]
  },
  {
   "cell_type": "code",
   "execution_count": 38,
   "id": "bcb628c2",
   "metadata": {},
   "outputs": [
    {
     "data": {
      "text/plain": [
       "Text(0.5, 1.0, 'Length of Stay in Days by Outcome Type')"
      ]
     },
     "execution_count": 38,
     "metadata": {},
     "output_type": "execute_result"
    },
    {
     "data": {
      "image/png": "[encoded data removed]",
      "text/plain": [
       "<Figure size 1080x432 with 1 Axes>"
      ]
     },
     "metadata": {
      "needs_background": "light"
     },
     "output_type": "display_data"
    }
   ],
   "source": [
    "#make plot\n",
    "plt.figure(figsize=PLT_SIZE)\n",
    "sns.boxplot(data=train, x='target_outcome', y=train.length_of_stay.dt.days)\n",
    "#zoom into the data so it's visible\n",
    "plt.ylim(-10, 100)\n",
    "#label the plot\n",
    "plt.xlabel('Outcome Type')\n",
    "plt.ylabel('Length of Stay in Days')\n",
    "plt.title('Length of Stay in Days by Outcome Type')"
   ]
  },
  {
   "cell_type": "code",
   "execution_count": 39,
   "id": "ada0aada",
   "metadata": {},
   "outputs": [
    {
     "data": {
      "text/html": [
       "<div>\n",
       "<style scoped>\n",
       "    .dataframe tbody tr th:only-of-type {\n",
       "        vertical-align: middle;\n",
       "    }\n",
       "\n",
       "    .dataframe tbody tr th {\n",
       "        vertical-align: top;\n",
       "    }\n",
       "\n",
       "    .dataframe thead th {\n",
       "        text-align: right;\n",
       "    }\n",
       "</style>\n",
       "<table border=\"1\" class=\"dataframe\">\n",
       "  <thead>\n",
       "    <tr style=\"text-align: right;\">\n",
       "      <th></th>\n",
       "      <th>count</th>\n",
       "      <th>mean</th>\n",
       "      <th>std</th>\n",
       "      <th>min</th>\n",
       "      <th>25%</th>\n",
       "      <th>50%</th>\n",
       "      <th>75%</th>\n",
       "      <th>max</th>\n",
       "    </tr>\n",
       "    <tr>\n",
       "      <th>target_outcome</th>\n",
       "      <th></th>\n",
       "      <th></th>\n",
       "      <th></th>\n",
       "      <th></th>\n",
       "      <th></th>\n",
       "      <th></th>\n",
       "      <th></th>\n",
       "      <th></th>\n",
       "    </tr>\n",
       "  </thead>\n",
       "  <tbody>\n",
       "    <tr>\n",
       "      <th>Adoption</th>\n",
       "      <td>27738</td>\n",
       "      <td>32 days 20:11:12.809863725</td>\n",
       "      <td>57 days 12:40:19.028953926</td>\n",
       "      <td>0 days 00:00:00</td>\n",
       "      <td>5 days 00:00:00</td>\n",
       "      <td>12 days 00:00:00</td>\n",
       "      <td>42 days 00:00:00</td>\n",
       "      <td>1522 days 00:00:00</td>\n",
       "    </tr>\n",
       "    <tr>\n",
       "      <th>Other</th>\n",
       "      <td>14631</td>\n",
       "      <td>4 days 04:29:46.344063973</td>\n",
       "      <td>16 days 04:38:57.137055014</td>\n",
       "      <td>0 days 00:00:00</td>\n",
       "      <td>0 days 00:00:00</td>\n",
       "      <td>1 days 00:00:00</td>\n",
       "      <td>4 days 00:00:00</td>\n",
       "      <td>617 days 00:00:00</td>\n",
       "    </tr>\n",
       "    <tr>\n",
       "      <th>Return to Owner</th>\n",
       "      <td>298</td>\n",
       "      <td>15 days 07:05:14.093959731</td>\n",
       "      <td>26 days 21:52:44.681384582</td>\n",
       "      <td>0 days 00:00:00</td>\n",
       "      <td>4 days 00:00:00</td>\n",
       "      <td>6 days 12:00:00</td>\n",
       "      <td>14 days 00:00:00</td>\n",
       "      <td>207 days 00:00:00</td>\n",
       "    </tr>\n",
       "    <tr>\n",
       "      <th>Transfer</th>\n",
       "      <td>21141</td>\n",
       "      <td>9 days 01:05:27.458492975</td>\n",
       "      <td>21 days 10:04:52.447665543</td>\n",
       "      <td>0 days 00:00:00</td>\n",
       "      <td>1 days 00:00:00</td>\n",
       "      <td>4 days 00:00:00</td>\n",
       "      <td>8 days 00:00:00</td>\n",
       "      <td>837 days 00:00:00</td>\n",
       "    </tr>\n",
       "  </tbody>\n",
       "</table>\n",
       "</div>"
      ],
      "text/plain": [
       "                 count                        mean  \\\n",
       "target_outcome                                       \n",
       "Adoption         27738  32 days 20:11:12.809863725   \n",
       "Other            14631   4 days 04:29:46.344063973   \n",
       "Return to Owner    298  15 days 07:05:14.093959731   \n",
       "Transfer         21141   9 days 01:05:27.458492975   \n",
       "\n",
       "                                        std              min              25%  \\\n",
       "target_outcome                                                                  \n",
       "Adoption         57 days 12:40:19.028953926  0 days 00:00:00  5 days 00:00:00   \n",
       "Other            16 days 04:38:57.137055014  0 days 00:00:00  0 days 00:00:00   \n",
       "Return to Owner  26 days 21:52:44.681384582  0 days 00:00:00  4 days 00:00:00   \n",
       "Transfer         21 days 10:04:52.447665543  0 days 00:00:00  1 days 00:00:00   \n",
       "\n",
       "                              50%               75%                 max  \n",
       "target_outcome                                                           \n",
       "Adoption         12 days 00:00:00  42 days 00:00:00  1522 days 00:00:00  \n",
       "Other             1 days 00:00:00   4 days 00:00:00   617 days 00:00:00  \n",
       "Return to Owner   6 days 12:00:00  14 days 00:00:00   207 days 00:00:00  \n",
       "Transfer          4 days 00:00:00   8 days 00:00:00   837 days 00:00:00  "
      ]
     },
     "execution_count": 39,
     "metadata": {},
     "output_type": "execute_result"
    }
   ],
   "source": [
    "#same data but numerically\n",
    "train.groupby('target_outcome').length_of_stay.describe()"
   ]
  },
  {
   "cell_type": "markdown",
   "id": "8e59a0da",
   "metadata": {},
   "source": [
    "#### Is the length of stay among adopted animals different by animal type?"
   ]
  },
  {
   "cell_type": "code",
   "execution_count": 40,
   "id": "8c2bcb93",
   "metadata": {},
   "outputs": [
    {
     "data": {
      "text/plain": [
       "Text(0.5, 1.0, 'Length of Stay in Days by Cat vs. Dog')"
      ]
     },
     "execution_count": 40,
     "metadata": {},
     "output_type": "execute_result"
    },
    {
     "data": {
      "image/png": "[encoded data removed]",
      "text/plain": [
       "<Figure size 1080x432 with 1 Axes>"
      ]
     },
     "metadata": {
      "needs_background": "light"
     },
     "output_type": "display_data"
    }
   ],
   "source": [
    "#make plot\n",
    "plt.figure(figsize=PLT_SIZE)\n",
    "sns.boxplot(data=train[(train.target_outcome=='Adoption')&(train.animal_type.isin(['Cat', 'Dog']))], x='target_outcome', y=train.age_at_outcome-train.age_at_intake, hue='animal_type')\n",
    "#zoom into the data so it's visible\n",
    "plt.ylim(-10, 100)\n",
    "#label the plot\n",
    "plt.ylabel('Length of Stay in Days')\n",
    "plt.title('Length of Stay in Days by Cat vs. Dog')"
   ]
  },
  {
   "cell_type": "code",
   "execution_count": 41,
   "id": "804e0447",
   "metadata": {},
   "outputs": [
    {
     "data": {
      "text/html": [
       "<div>\n",
       "<style scoped>\n",
       "    .dataframe tbody tr th:only-of-type {\n",
       "        vertical-align: middle;\n",
       "    }\n",
       "\n",
       "    .dataframe tbody tr th {\n",
       "        vertical-align: top;\n",
       "    }\n",
       "\n",
       "    .dataframe thead th {\n",
       "        text-align: right;\n",
       "    }\n",
       "</style>\n",
       "<table border=\"1\" class=\"dataframe\">\n",
       "  <thead>\n",
       "    <tr style=\"text-align: right;\">\n",
       "      <th></th>\n",
       "      <th>count</th>\n",
       "      <th>mean</th>\n",
       "      <th>std</th>\n",
       "      <th>min</th>\n",
       "      <th>25%</th>\n",
       "      <th>50%</th>\n",
       "      <th>75%</th>\n",
       "      <th>max</th>\n",
       "    </tr>\n",
       "    <tr>\n",
       "      <th>animal_type</th>\n",
       "      <th></th>\n",
       "      <th></th>\n",
       "      <th></th>\n",
       "      <th></th>\n",
       "      <th></th>\n",
       "      <th></th>\n",
       "      <th></th>\n",
       "      <th></th>\n",
       "    </tr>\n",
       "  </thead>\n",
       "  <tbody>\n",
       "    <tr>\n",
       "      <th>Cat</th>\n",
       "      <td>12300</td>\n",
       "      <td>40 days 10:55:57.658536585</td>\n",
       "      <td>52 days 13:03:03.867312564</td>\n",
       "      <td>0 days 00:00:00</td>\n",
       "      <td>8 days 00:00:00</td>\n",
       "      <td>28 days 00:00:00</td>\n",
       "      <td>55 days 00:00:00</td>\n",
       "      <td>1102 days 00:00:00</td>\n",
       "    </tr>\n",
       "    <tr>\n",
       "      <th>Dog</th>\n",
       "      <td>14940</td>\n",
       "      <td>26 days 21:51:02.168674699</td>\n",
       "      <td>61 days 05:29:53.249751471</td>\n",
       "      <td>0 days 00:00:00</td>\n",
       "      <td>4 days 00:00:00</td>\n",
       "      <td>7 days 00:00:00</td>\n",
       "      <td>24 days 00:00:00</td>\n",
       "      <td>1522 days 00:00:00</td>\n",
       "    </tr>\n",
       "  </tbody>\n",
       "</table>\n",
       "</div>"
      ],
      "text/plain": [
       "             count                        mean                         std  \\\n",
       "animal_type                                                                  \n",
       "Cat          12300  40 days 10:55:57.658536585  52 days 13:03:03.867312564   \n",
       "Dog          14940  26 days 21:51:02.168674699  61 days 05:29:53.249751471   \n",
       "\n",
       "                         min              25%               50%  \\\n",
       "animal_type                                                       \n",
       "Cat          0 days 00:00:00  8 days 00:00:00  28 days 00:00:00   \n",
       "Dog          0 days 00:00:00  4 days 00:00:00   7 days 00:00:00   \n",
       "\n",
       "                          75%                 max  \n",
       "animal_type                                        \n",
       "Cat          55 days 00:00:00  1102 days 00:00:00  \n",
       "Dog          24 days 00:00:00  1522 days 00:00:00  "
      ]
     },
     "execution_count": 41,
     "metadata": {},
     "output_type": "execute_result"
    }
   ],
   "source": [
    "train[(train.target_outcome=='Adoption')&(train.animal_type.isin(['Cat', 'Dog']))].groupby('animal_type').length_of_stay.describe()"
   ]
  },
  {
   "cell_type": "markdown",
   "id": "e23dc2c0",
   "metadata": {},
   "source": [
    "#### Hypothesis testing\n",
    "\n",
    "1. Is the average length of stay of a dog shorter than a cat's average length of stay?\n",
    "\n",
    "$H_0$ : The mean length of stay of a dog is is equal to or greater than the mean length of stay of a cat\n",
    "\n",
    "$H_a$ : The mean length of stay of a dog is is less than the mean length of stay of a cat"
   ]
  },
  {
   "cell_type": "code",
   "execution_count": 42,
   "id": "be911fac",
   "metadata": {},
   "outputs": [
    {
     "data": {
      "text/html": [
       "<div>\n",
       "<style scoped>\n",
       "    .dataframe tbody tr th:only-of-type {\n",
       "        vertical-align: middle;\n",
       "    }\n",
       "\n",
       "    .dataframe tbody tr th {\n",
       "        vertical-align: top;\n",
       "    }\n",
       "\n",
       "    .dataframe thead th {\n",
       "        text-align: right;\n",
       "    }\n",
       "</style>\n",
       "<table border=\"1\" class=\"dataframe\">\n",
       "  <thead>\n",
       "    <tr style=\"text-align: right;\">\n",
       "      <th></th>\n",
       "      <th>U-Stat</th>\n",
       "      <th>p-value</th>\n",
       "      <th>reject_null</th>\n",
       "    </tr>\n",
       "  </thead>\n",
       "  <tbody>\n",
       "    <tr>\n",
       "      <th>0</th>\n",
       "      <td>411202057.5</td>\n",
       "      <td>1.021590e-33</td>\n",
       "      <td>True</td>\n",
       "    </tr>\n",
       "  </tbody>\n",
       "</table>\n",
       "</div>"
      ],
      "text/plain": [
       "        U-Stat       p-value  reject_null\n",
       "0  411202057.5  1.021590e-33         True"
      ]
     },
     "execution_count": 42,
     "metadata": {},
     "output_type": "execute_result"
    }
   ],
   "source": [
    "explore.mann_whitney(train[train['animal_type']=='Dog'].length_of_stay, train[train['animal_type']=='Cat'].length_of_stay)"
   ]
  },
  {
   "cell_type": "markdown",
   "id": "2ede83ce",
   "metadata": {},
   "source": [
    "The null hypothesis is likely false.\n",
    "\n",
    "<a href='#contents'>Back to Contents</a>\n",
    "\n",
    "## Modeling <a name='model'></a>\n",
    "\n",
    "### Key Takeaways\n",
    "- Only modeling for dogs and cats, as these represent the majority of the data\n",
    "- Classification models are used\n",
    "- Calculated column representing length of stay is used in modeling, but is cast to `int`\n",
    "- `intake_date` is transformed into an `int` representing the numeric representation of the month\n",
    "- Baseline accuracy is $0.43$\n",
    "\n",
    "### Discussion\n",
    "\n",
    "Models are evaluated on their accuracy, and how well they surpass the baseline accuracy of $0.43$.  The column `intake_date` is made into a column representing the month of intake.  In order to handle the large number of values in `color` and `breed`, a series of boolean columns of the form `is_{color}` and `is_{breed}` are calculated for modeling; these mainly cover all colors and breeds that are present in at least 200 rows of the data. Note that animal `A844562` is categorized as a Dog which has `intake_type = 'Wildlife'`; this causes an extra column in the dataframe where this animal is encoded--therefore the row is dropped.\n",
    "\n",
    "The following columns are not used in modeling, with discussion where relevant:\n",
    "- `outcome_date` : data repeated essentialy from `intake_date` see discussion in <a href='#explore'>Explore</a> section\n",
    "- `name`\n",
    "- `sex_upon_outcome` and `sex_upon_intake`\n",
    "- `outcome_type` and `outcome_subtype`\n",
    "- `found_location`\n",
    "\n",
    "<a href='#contents'>Backt to Contents</a>\n",
    "\n",
    "### Prepare data for modeling and make a baseline model\n",
    "\n",
    "- Data is prepared\n",
    "- Baseline model based on train\n",
    "- Data is encoded and split\n",
    "\n",
    "#### Renew data and splits to make a clean dataframe"
   ]
  },
  {
   "cell_type": "code",
   "execution_count": 43,
   "id": "b03dcc7f",
   "metadata": {},
   "outputs": [
    {
     "name": "stdout",
     "output_type": "stream",
     "text": [
      "Returning saved csv files.\n"
     ]
    }
   ],
   "source": [
    "df = wrangle.make_pet_dataframe()\n",
    "train, validate, test = wrangle.split_data(df) "
   ]
  },
  {
   "cell_type": "markdown",
   "id": "b3dc06c7",
   "metadata": {},
   "source": [
    "#### Baseline Model\n",
    "\n",
    "Use the most common outcome as the baseline prediction.  Baseline accuracy is $0.43$, and represents a prediction of adoption which is the most common outcome among animals."
   ]
  },
  {
   "cell_type": "code",
   "execution_count": 44,
   "id": "056987c5",
   "metadata": {},
   "outputs": [
    {
     "data": {
      "text/html": [
       "<div>\n",
       "<style scoped>\n",
       "    .dataframe tbody tr th:only-of-type {\n",
       "        vertical-align: middle;\n",
       "    }\n",
       "\n",
       "    .dataframe tbody tr th {\n",
       "        vertical-align: top;\n",
       "    }\n",
       "\n",
       "    .dataframe thead th {\n",
       "        text-align: right;\n",
       "    }\n",
       "</style>\n",
       "<table border=\"1\" class=\"dataframe\">\n",
       "  <thead>\n",
       "    <tr style=\"text-align: right;\">\n",
       "      <th></th>\n",
       "      <th>precision</th>\n",
       "      <th>recall</th>\n",
       "      <th>f1-score</th>\n",
       "      <th>support</th>\n",
       "    </tr>\n",
       "  </thead>\n",
       "  <tbody>\n",
       "    <tr>\n",
       "      <th>Adoption</th>\n",
       "      <td>0.434710</td>\n",
       "      <td>1.00000</td>\n",
       "      <td>0.605990</td>\n",
       "      <td>27738.00000</td>\n",
       "    </tr>\n",
       "    <tr>\n",
       "      <th>Other</th>\n",
       "      <td>1.000000</td>\n",
       "      <td>0.00000</td>\n",
       "      <td>0.000000</td>\n",
       "      <td>14631.00000</td>\n",
       "    </tr>\n",
       "    <tr>\n",
       "      <th>Return to Owner</th>\n",
       "      <td>1.000000</td>\n",
       "      <td>0.00000</td>\n",
       "      <td>0.000000</td>\n",
       "      <td>298.00000</td>\n",
       "    </tr>\n",
       "    <tr>\n",
       "      <th>Transfer</th>\n",
       "      <td>1.000000</td>\n",
       "      <td>0.00000</td>\n",
       "      <td>0.000000</td>\n",
       "      <td>21141.00000</td>\n",
       "    </tr>\n",
       "    <tr>\n",
       "      <th>accuracy</th>\n",
       "      <td>0.434710</td>\n",
       "      <td>0.43471</td>\n",
       "      <td>0.434710</td>\n",
       "      <td>0.43471</td>\n",
       "    </tr>\n",
       "    <tr>\n",
       "      <th>macro avg</th>\n",
       "      <td>0.858678</td>\n",
       "      <td>0.25000</td>\n",
       "      <td>0.151498</td>\n",
       "      <td>63808.00000</td>\n",
       "    </tr>\n",
       "    <tr>\n",
       "      <th>weighted avg</th>\n",
       "      <td>0.754263</td>\n",
       "      <td>0.43471</td>\n",
       "      <td>0.263430</td>\n",
       "      <td>63808.00000</td>\n",
       "    </tr>\n",
       "  </tbody>\n",
       "</table>\n",
       "</div>"
      ],
      "text/plain": [
       "                 precision   recall  f1-score      support\n",
       "Adoption          0.434710  1.00000  0.605990  27738.00000\n",
       "Other             1.000000  0.00000  0.000000  14631.00000\n",
       "Return to Owner   1.000000  0.00000  0.000000    298.00000\n",
       "Transfer          1.000000  0.00000  0.000000  21141.00000\n",
       "accuracy          0.434710  0.43471  0.434710      0.43471\n",
       "macro avg         0.858678  0.25000  0.151498  63808.00000\n",
       "weighted avg      0.754263  0.43471  0.263430  63808.00000"
      ]
     },
     "execution_count": 44,
     "metadata": {},
     "output_type": "execute_result"
    }
   ],
   "source": [
    "compare_models = []\n",
    "#make a baseline model\n",
    "#most pets are adopted. baseline model is pet gets adopted\n",
    "baseline_prediction = train.target_outcome.value_counts().idxmax() #get most common value\n",
    "baseline_model = pd.Series([baseline_prediction for x in range(train.shape[0])]) #make a dataframe with the predictions\n",
    "\n",
    "#save accuracy in a variable and product e classification report\n",
    "baseline_accuracy = metrics.classification_report(train.target_outcome, baseline_model, zero_division=True, output_dict=True)['accuracy']\n",
    "pd.DataFrame(metrics.classification_report(train.target_outcome, baseline_model, zero_division=True, output_dict=True)).T"
   ]
  },
  {
   "cell_type": "code",
   "execution_count": 45,
   "id": "1e69e32f",
   "metadata": {},
   "outputs": [
    {
     "data": {
      "text/plain": [
       "0.4347103811434303"
      ]
     },
     "execution_count": 45,
     "metadata": {},
     "output_type": "execute_result"
    }
   ],
   "source": [
    "baseline_accuracy"
   ]
  },
  {
   "cell_type": "markdown",
   "id": "7a1eafe5",
   "metadata": {},
   "source": [
    "### Make X and y sets\n",
    "\n",
    "X and y sets are made to prepare for modeling.\n",
    "\n",
    "This section calls `make_model_sets` which does the following:\n",
    "- `make_feature_columns_and_filter` : filters the set to only dogs and cats, makes breed and color columns as stated above, calculates length of of stay, and makes intake month column\n",
    "- `drop_columns_for_model` : drops unnecessary "
   ]
  },
  {
   "cell_type": "code",
   "execution_count": 46,
   "id": "509435fb",
   "metadata": {},
   "outputs": [],
   "source": [
    "X_train, y_train = wrangle.make_model_sets(train)\n",
    "\n",
    "X_validate, y_validate = wrangle.make_model_sets(validate)\n",
    "\n",
    "X_test, y_test = wrangle.make_model_sets(test)"
   ]
  },
  {
   "cell_type": "markdown",
   "id": "1e3d7904",
   "metadata": {},
   "source": [
    "Check to make sure they have equal columns"
   ]
  },
  {
   "cell_type": "code",
   "execution_count": 47,
   "id": "3d66ee63",
   "metadata": {},
   "outputs": [
    {
     "data": {
      "text/plain": [
       "((59282, 105), (25380, 105), (21180, 105))"
      ]
     },
     "execution_count": 47,
     "metadata": {},
     "output_type": "execute_result"
    }
   ],
   "source": [
    "X_train.shape, X_validate.shape, X_test.shape"
   ]
  },
  {
   "cell_type": "code",
   "execution_count": null,
   "id": "1cc789c4",
   "metadata": {},
   "outputs": [],
   "source": []
  }
 ],
 "metadata": {
  "kernelspec": {
   "display_name": "Python 3 (ipykernel)",
   "language": "python",
   "name": "python3"
  },
  "language_info": {
   "codemirror_mode": {
    "name": "ipython",
    "version": 3
   },
   "file_extension": ".py",
   "mimetype": "text/x-python",
   "name": "python",
   "nbconvert_exporter": "python",
   "pygments_lexer": "ipython3",
   "version": "3.9.12"
  }
 },
 "nbformat": 4,
 "nbformat_minor": 5
}

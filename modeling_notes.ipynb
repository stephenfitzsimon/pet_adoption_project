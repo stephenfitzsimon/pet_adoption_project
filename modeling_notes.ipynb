{
 "cells": [
  {
   "cell_type": "markdown",
   "id": "ce0f6009",
   "metadata": {},
   "source": [
    "# Modeling notes"
   ]
  },
  {
   "cell_type": "code",
   "execution_count": 1,
   "id": "cf66be83",
   "metadata": {},
   "outputs": [],
   "source": [
    "import pandas as pd\n",
    "from sklearn.model_selection import train_test_split\n",
    "from scipy import stats\n",
    "from sklearn import metrics\n",
    "\n",
    "from sklearn.tree import DecisionTreeClassifier, plot_tree\n",
    "from sklearn.ensemble import RandomForestClassifier\n",
    "from sklearn.neighbors import KNeighborsClassifier\n",
    "from sklearn.multioutput import MultiOutputClassifier\n",
    "\n",
    "#ignore minor warnings\n",
    "import warnings\n",
    "warnings.filterwarnings(\"ignore\")\n",
    "\n",
    "import wrangle\n",
    "import explore\n",
    "import modelling\n",
    "\n",
    "RAND_SEED = 357"
   ]
  },
  {
   "cell_type": "code",
   "execution_count": 2,
   "id": "4eec2b71",
   "metadata": {},
   "outputs": [],
   "source": [
    "# df = wrangle.make_pet_dataframe()\n",
    "# train, validate, test = wrangle.split_data(df)"
   ]
  },
  {
   "cell_type": "code",
   "execution_count": 3,
   "id": "d26dc902",
   "metadata": {},
   "outputs": [],
   "source": [
    "def make_feature_column(df):\n",
    "    df['length_of_stay'] = (df.outcome_date-df.intake_date).dt.days\n",
    "    return df\n",
    "\n",
    "#make_feature_column(train)\n"
   ]
  },
  {
   "cell_type": "code",
   "execution_count": 4,
   "id": "a25fba36",
   "metadata": {},
   "outputs": [],
   "source": [
    "def drop_columns_for_model(df):\n",
    "    return df.drop(columns = ['outcome_date', 'name', 'sex_upon_outcome', 'sex_upon_intake', 'outcome_type', 'outcome_subtype', 'found_location'])\n",
    "\n",
    "#drop_columns_for_model(train)"
   ]
  },
  {
   "cell_type": "code",
   "execution_count": 5,
   "id": "7c3ff600",
   "metadata": {},
   "outputs": [],
   "source": [
    "def make_X_and_y(df):\n",
    "    '''Makes a X and y sets'''\n",
    "    #drop relevant columns\n",
    "    X_df = df.drop(columns = ['target_outcome'])\n",
    "    #make y_Train\n",
    "    y_df = df[['animal_id', 'target_outcome']]\n",
    "    return X_df, y_df\n",
    "\n",
    "#X_train, y_train = make_X_and_y(train)"
   ]
  },
  {
   "cell_type": "code",
   "execution_count": 6,
   "id": "e2bea445",
   "metadata": {},
   "outputs": [],
   "source": [
    "def make_dummies(df):\n",
    "    '''creates all catagorical columns into encoded columns'''\n",
    "    #get all catagorical columns\n",
    "    cat_cols = list(df.select_dtypes('object').iloc[:,1:].columns)\n",
    "    # make dummy columns\n",
    "    dummy_df = pd.get_dummies(df[cat_cols], dummy_na = False, drop_first = True)\n",
    "    df = pd.concat([df, dummy_df], axis = 1)\n",
    "    return df\n",
    "\n",
    "# train_dummy = make_dummies(train)"
   ]
  },
  {
   "cell_type": "code",
   "execution_count": 7,
   "id": "5d38173e",
   "metadata": {},
   "outputs": [
    {
     "name": "stdout",
     "output_type": "stream",
     "text": [
      "Returning saved csv files.\n"
     ]
    }
   ],
   "source": [
    "df = wrangle.make_pet_dataframe()\n",
    "train, validate, test = wrangle.split_data(df)\n",
    "compare_models = []\n",
    "#make a baseline model\n",
    "#most pets are adopted. baseline model is pet gets adopted\n",
    "baseline_prediction = train.target_outcome.value_counts().idxmax() #get most common value\n",
    "baseline_model = pd.Series([baseline_prediction for x in range(train.shape[0])]) #make a dataframe with the predictions\n",
    "\n",
    "#save accuracy in a variable and product e classification report\n",
    "baseline_accuracy = metrics.classification_report(train.target_outcome, baseline_model, zero_division=True, output_dict=True)['accuracy']"
   ]
  },
  {
   "cell_type": "code",
   "execution_count": 8,
   "id": "f396838e",
   "metadata": {},
   "outputs": [
    {
     "data": {
      "text/plain": [
       "0.4347103811434303"
      ]
     },
     "execution_count": 8,
     "metadata": {},
     "output_type": "execute_result"
    }
   ],
   "source": [
    "baseline_accuracy"
   ]
  },
  {
   "cell_type": "code",
   "execution_count": 9,
   "id": "dbc060c0",
   "metadata": {},
   "outputs": [
    {
     "name": "stdout",
     "output_type": "stream",
     "text": [
      "Finished Logistic Regression with solver sagasn-cgs 45050"
     ]
    }
   ],
   "source": [
    "model_df = modelling.models_mass(train, validate, baseline_accuracy)"
   ]
  },
  {
   "cell_type": "code",
   "execution_count": 10,
   "id": "370abe9e",
   "metadata": {},
   "outputs": [],
   "source": [
    "model_df['difference'] = model_df['train_accuracy'] - model_df['validate_accuracy']"
   ]
  },
  {
   "cell_type": "code",
   "execution_count": 11,
   "id": "a337dd60",
   "metadata": {},
   "outputs": [
    {
     "data": {
      "text/html": [
       "<div>\n",
       "<style scoped>\n",
       "    .dataframe tbody tr th:only-of-type {\n",
       "        vertical-align: middle;\n",
       "    }\n",
       "\n",
       "    .dataframe tbody tr th {\n",
       "        vertical-align: top;\n",
       "    }\n",
       "\n",
       "    .dataframe thead th {\n",
       "        text-align: right;\n",
       "    }\n",
       "</style>\n",
       "<table border=\"1\" class=\"dataframe\">\n",
       "  <thead>\n",
       "    <tr style=\"text-align: right;\">\n",
       "      <th></th>\n",
       "      <th>model</th>\n",
       "      <th>attributes</th>\n",
       "      <th>train_accuracy</th>\n",
       "      <th>validate_accuracy</th>\n",
       "      <th>better_than_baseline</th>\n",
       "      <th>difference</th>\n",
       "    </tr>\n",
       "  </thead>\n",
       "  <tbody>\n",
       "    <tr>\n",
       "      <th>18</th>\n",
       "      <td>Decision Tree Classifier</td>\n",
       "      <td>max_depth=11</td>\n",
       "      <td>0.777167</td>\n",
       "      <td>0.750079</td>\n",
       "      <td>True</td>\n",
       "      <td>0.027088</td>\n",
       "    </tr>\n",
       "    <tr>\n",
       "      <th>16</th>\n",
       "      <td>Decision Tree Classifier</td>\n",
       "      <td>max_depth=10</td>\n",
       "      <td>0.768412</td>\n",
       "      <td>0.749803</td>\n",
       "      <td>True</td>\n",
       "      <td>0.018609</td>\n",
       "    </tr>\n",
       "    <tr>\n",
       "      <th>14</th>\n",
       "      <td>Decision Tree Classifier</td>\n",
       "      <td>max_depth=9</td>\n",
       "      <td>0.759607</td>\n",
       "      <td>0.748069</td>\n",
       "      <td>True</td>\n",
       "      <td>0.011537</td>\n",
       "    </tr>\n",
       "    <tr>\n",
       "      <th>20</th>\n",
       "      <td>Decision Tree Classifier</td>\n",
       "      <td>max_depth=12</td>\n",
       "      <td>0.786951</td>\n",
       "      <td>0.747124</td>\n",
       "      <td>True</td>\n",
       "      <td>0.039827</td>\n",
       "    </tr>\n",
       "    <tr>\n",
       "      <th>22</th>\n",
       "      <td>Decision Tree Classifier</td>\n",
       "      <td>max_depth=13</td>\n",
       "      <td>0.797392</td>\n",
       "      <td>0.746454</td>\n",
       "      <td>True</td>\n",
       "      <td>0.050938</td>\n",
       "    </tr>\n",
       "    <tr>\n",
       "      <th>...</th>\n",
       "      <td>...</td>\n",
       "      <td>...</td>\n",
       "      <td>...</td>\n",
       "      <td>...</td>\n",
       "      <td>...</td>\n",
       "      <td>...</td>\n",
       "    </tr>\n",
       "    <tr>\n",
       "      <th>197</th>\n",
       "      <td>Extra Trees Model</td>\n",
       "      <td>leafs = 4 : depth = 2 : trees = 250</td>\n",
       "      <td>0.468658</td>\n",
       "      <td>0.468085</td>\n",
       "      <td>True</td>\n",
       "      <td>0.000573</td>\n",
       "    </tr>\n",
       "    <tr>\n",
       "      <th>55</th>\n",
       "      <td>Extra Trees Model</td>\n",
       "      <td>leafs = 1 : depth = 2 : trees = 300</td>\n",
       "      <td>0.467343</td>\n",
       "      <td>0.466312</td>\n",
       "      <td>True</td>\n",
       "      <td>0.001030</td>\n",
       "    </tr>\n",
       "    <tr>\n",
       "      <th>103</th>\n",
       "      <td>Extra Trees Model</td>\n",
       "      <td>leafs = 2 : depth = 2 : trees = 300</td>\n",
       "      <td>0.467343</td>\n",
       "      <td>0.466312</td>\n",
       "      <td>True</td>\n",
       "      <td>0.001030</td>\n",
       "    </tr>\n",
       "    <tr>\n",
       "      <th>151</th>\n",
       "      <td>Extra Trees Model</td>\n",
       "      <td>leafs = 3 : depth = 2 : trees = 300</td>\n",
       "      <td>0.467343</td>\n",
       "      <td>0.466312</td>\n",
       "      <td>True</td>\n",
       "      <td>0.001030</td>\n",
       "    </tr>\n",
       "    <tr>\n",
       "      <th>199</th>\n",
       "      <td>Extra Trees Model</td>\n",
       "      <td>leafs = 4 : depth = 2 : trees = 300</td>\n",
       "      <td>0.467343</td>\n",
       "      <td>0.466312</td>\n",
       "      <td>True</td>\n",
       "      <td>0.001030</td>\n",
       "    </tr>\n",
       "  </tbody>\n",
       "</table>\n",
       "<p>242 rows × 6 columns</p>\n",
       "</div>"
      ],
      "text/plain": [
       "                        model                           attributes  \\\n",
       "18   Decision Tree Classifier                         max_depth=11   \n",
       "16   Decision Tree Classifier                         max_depth=10   \n",
       "14   Decision Tree Classifier                          max_depth=9   \n",
       "20   Decision Tree Classifier                         max_depth=12   \n",
       "22   Decision Tree Classifier                         max_depth=13   \n",
       "..                        ...                                  ...   \n",
       "197         Extra Trees Model  leafs = 4 : depth = 2 : trees = 250   \n",
       "55          Extra Trees Model  leafs = 1 : depth = 2 : trees = 300   \n",
       "103         Extra Trees Model  leafs = 2 : depth = 2 : trees = 300   \n",
       "151         Extra Trees Model  leafs = 3 : depth = 2 : trees = 300   \n",
       "199         Extra Trees Model  leafs = 4 : depth = 2 : trees = 300   \n",
       "\n",
       "     train_accuracy  validate_accuracy  better_than_baseline  difference  \n",
       "18         0.777167           0.750079                  True    0.027088  \n",
       "16         0.768412           0.749803                  True    0.018609  \n",
       "14         0.759607           0.748069                  True    0.011537  \n",
       "20         0.786951           0.747124                  True    0.039827  \n",
       "22         0.797392           0.746454                  True    0.050938  \n",
       "..              ...                ...                   ...         ...  \n",
       "197        0.468658           0.468085                  True    0.000573  \n",
       "55         0.467343           0.466312                  True    0.001030  \n",
       "103        0.467343           0.466312                  True    0.001030  \n",
       "151        0.467343           0.466312                  True    0.001030  \n",
       "199        0.467343           0.466312                  True    0.001030  \n",
       "\n",
       "[242 rows x 6 columns]"
      ]
     },
     "execution_count": 11,
     "metadata": {},
     "output_type": "execute_result"
    }
   ],
   "source": [
    "model_df.sort_values(['validate_accuracy', 'difference'], ascending= False)"
   ]
  },
  {
   "cell_type": "code",
   "execution_count": 16,
   "id": "ea692d76",
   "metadata": {},
   "outputs": [
    {
     "name": "stdout",
     "output_type": "stream",
     "text": [
      "key key1, value value1\n",
      "key1\n",
      "key key2, value value2\n",
      "key2\n",
      "key key3, value value3\n",
      "key3\n"
     ]
    }
   ],
   "source": [
    "test_dict = {\n",
    "    'key1':'value1',\n",
    "    'key2':'value2',\n",
    "    'key3':'value3'\n",
    "}\n",
    "for item in test_dict:\n",
    "    print(f\"key {item}, value {test_dict[item]}\")\n",
    "    print(item)"
   ]
  },
  {
   "cell_type": "code",
   "execution_count": null,
   "id": "7cabff99",
   "metadata": {},
   "outputs": [],
   "source": []
  },
  {
   "cell_type": "code",
   "execution_count": null,
   "id": "df4015e0",
   "metadata": {},
   "outputs": [],
   "source": []
  }
 ],
 "metadata": {
  "kernelspec": {
   "display_name": "Python 3 (ipykernel)",
   "language": "python",
   "name": "python3"
  },
  "language_info": {
   "codemirror_mode": {
    "name": "ipython",
    "version": 3
   },
   "file_extension": ".py",
   "mimetype": "text/x-python",
   "name": "python",
   "nbconvert_exporter": "python",
   "pygments_lexer": "ipython3",
   "version": "3.9.12"
  }
 },
 "nbformat": 4,
 "nbformat_minor": 5
}
